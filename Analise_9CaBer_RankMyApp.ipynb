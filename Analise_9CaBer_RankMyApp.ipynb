{
 "cells": [
  {
   "cell_type": "markdown",
   "metadata": {},
   "source": [
    "#Análise dos Dados da 9CaBer"
   ]
  },
  {
   "cell_type": "markdown",
   "metadata": {},
   "source": [
    "**Objetivo**: Analisar os dados fornecidos para descobrir os melhores segmentos a serem usados para a próxima campanha da RankMyApp"
   ]
  },
  {
   "cell_type": "markdown",
   "metadata": {},
   "source": [
    "##Vistoria Inicial da Fonte de Dados"
   ]
  },
  {
   "cell_type": "markdown",
   "metadata": {},
   "source": [
    "**Fonte de Dados**: Os dados a serem utilizados pertencem ao aplicativo de Taxi 9CaBer, do período do mês de Maio de 2018"
   ]
  },
  {
   "cell_type": "code",
   "execution_count": 2,
   "metadata": {},
   "outputs": [],
   "source": [
    "import pandas as pd\n",
    "import numpy as np\n",
    "import matplotlib.pyplot as pt\n",
    "\n",
    "%matplotlib inline"
   ]
  },
  {
   "cell_type": "code",
   "execution_count": 3,
   "metadata": {},
   "outputs": [
    {
     "data": {
      "text/html": [
       "<div>\n",
       "<style scoped>\n",
       "    .dataframe tbody tr th:only-of-type {\n",
       "        vertical-align: middle;\n",
       "    }\n",
       "\n",
       "    .dataframe tbody tr th {\n",
       "        vertical-align: top;\n",
       "    }\n",
       "\n",
       "    .dataframe thead th {\n",
       "        text-align: right;\n",
       "    }\n",
       "</style>\n",
       "<table border=\"1\" class=\"dataframe\">\n",
       "  <thead>\n",
       "    <tr style=\"text-align: right;\">\n",
       "      <th></th>\n",
       "      <th>Postback Timestamp</th>\n",
       "      <th>Click ID</th>\n",
       "      <th>Transaction ID</th>\n",
       "      <th>Country</th>\n",
       "      <th>Traffic Source ID</th>\n",
       "      <th>OS</th>\n",
       "      <th>Isp</th>\n",
       "      <th>Mobile Carrier</th>\n",
       "      <th>Connection Type</th>\n",
       "      <th>IP</th>\n",
       "      <th>Site ID</th>\n",
       "    </tr>\n",
       "  </thead>\n",
       "  <tbody>\n",
       "    <tr>\n",
       "      <th>0</th>\n",
       "      <td>5/31/18 23:56</td>\n",
       "      <td>w9AJMV0C671MQ33EHLHVRH92</td>\n",
       "      <td>install</td>\n",
       "      <td>Brazil</td>\n",
       "      <td>9a2a1675-584d-491d-9fc9-aeaa674c6e2d</td>\n",
       "      <td>Android</td>\n",
       "      <td>Telefonica Brasil s.a.</td>\n",
       "      <td>Vivo</td>\n",
       "      <td>Mobile</td>\n",
       "      <td>177,118,105,122</td>\n",
       "      <td>24138</td>\n",
       "    </tr>\n",
       "    <tr>\n",
       "      <th>1</th>\n",
       "      <td>5/31/18 23:55</td>\n",
       "      <td>w2D5EHI6SH04BQAE1VRLD74O</td>\n",
       "      <td>install</td>\n",
       "      <td>Brazil</td>\n",
       "      <td>5cff49a9-50d7-4272-917f-614a822124de</td>\n",
       "      <td>Android</td>\n",
       "      <td>Brasil Telecom Sa - Filial Distrito Federal</td>\n",
       "      <td>NaN</td>\n",
       "      <td>Xdsl</td>\n",
       "      <td>201.89.13.176</td>\n",
       "      <td>7c0ajw76178_6761_652_60601652</td>\n",
       "    </tr>\n",
       "    <tr>\n",
       "      <th>2</th>\n",
       "      <td>5/31/18 23:25</td>\n",
       "      <td>wFS5T9UIREPS4QAEHBURP7DG</td>\n",
       "      <td>first_ride</td>\n",
       "      <td>Brazil</td>\n",
       "      <td>9a2a1675-584d-491d-9fc9-aeaa674c6e2d</td>\n",
       "      <td>Android</td>\n",
       "      <td>Claro Brazil</td>\n",
       "      <td>Claro</td>\n",
       "      <td>Mobile</td>\n",
       "      <td>187.26.74.123</td>\n",
       "      <td>12088</td>\n",
       "    </tr>\n",
       "    <tr>\n",
       "      <th>3</th>\n",
       "      <td>5/31/18 23:22</td>\n",
       "      <td>wDAIK3RD8OL0LQAEH6N197BG</td>\n",
       "      <td>install</td>\n",
       "      <td>Brazil</td>\n",
       "      <td>9a2a1675-584d-491d-9fc9-aeaa674c6e2d</td>\n",
       "      <td>Android</td>\n",
       "      <td>Telefonica Brasil s.a.</td>\n",
       "      <td>NaN</td>\n",
       "      <td>Broadband</td>\n",
       "      <td>201.86.248.165</td>\n",
       "      <td>12088</td>\n",
       "    </tr>\n",
       "    <tr>\n",
       "      <th>4</th>\n",
       "      <td>5/31/18 23:14</td>\n",
       "      <td>wJH7VPPNE5G2SLAEHEHSBR68</td>\n",
       "      <td>install</td>\n",
       "      <td>Brazil</td>\n",
       "      <td>9a2a1675-584d-491d-9fc9-aeaa674c6e2d</td>\n",
       "      <td>Android</td>\n",
       "      <td>Telemar Norte Leste s.a.</td>\n",
       "      <td>NaN</td>\n",
       "      <td>Broadband</td>\n",
       "      <td>186.247.61.28</td>\n",
       "      <td>26896</td>\n",
       "    </tr>\n",
       "  </tbody>\n",
       "</table>\n",
       "</div>"
      ],
      "text/plain": [
       "  Postback Timestamp                  Click ID Transaction ID Country  \\\n",
       "0      5/31/18 23:56  w9AJMV0C671MQ33EHLHVRH92        install  Brazil   \n",
       "1      5/31/18 23:55  w2D5EHI6SH04BQAE1VRLD74O        install  Brazil   \n",
       "2      5/31/18 23:25  wFS5T9UIREPS4QAEHBURP7DG     first_ride  Brazil   \n",
       "3      5/31/18 23:22  wDAIK3RD8OL0LQAEH6N197BG        install  Brazil   \n",
       "4      5/31/18 23:14  wJH7VPPNE5G2SLAEHEHSBR68        install  Brazil   \n",
       "\n",
       "                      Traffic Source ID       OS  \\\n",
       "0  9a2a1675-584d-491d-9fc9-aeaa674c6e2d  Android   \n",
       "1  5cff49a9-50d7-4272-917f-614a822124de  Android   \n",
       "2  9a2a1675-584d-491d-9fc9-aeaa674c6e2d  Android   \n",
       "3  9a2a1675-584d-491d-9fc9-aeaa674c6e2d  Android   \n",
       "4  9a2a1675-584d-491d-9fc9-aeaa674c6e2d  Android   \n",
       "\n",
       "                                           Isp Mobile Carrier Connection Type  \\\n",
       "0                       Telefonica Brasil s.a.           Vivo          Mobile   \n",
       "1  Brasil Telecom Sa - Filial Distrito Federal            NaN            Xdsl   \n",
       "2                                 Claro Brazil          Claro          Mobile   \n",
       "3                       Telefonica Brasil s.a.            NaN       Broadband   \n",
       "4                     Telemar Norte Leste s.a.            NaN       Broadband   \n",
       "\n",
       "                IP                        Site ID  \n",
       "0  177,118,105,122                          24138  \n",
       "1    201.89.13.176  7c0ajw76178_6761_652_60601652  \n",
       "2    187.26.74.123                          12088  \n",
       "3   201.86.248.165                          12088  \n",
       "4    186.247.61.28                          26896  "
      ]
     },
     "metadata": {},
     "output_type": "display_data"
    },
    {
     "name": "stdout",
     "output_type": "stream",
     "text": [
      "Quantidade de Amostras: 27199. \tQuantidade de Atributos: 11.\n"
     ]
    }
   ],
   "source": [
    "#Importação do Arquivo CSV criado contendo os dados a serem analisados\n",
    "taxi_app = pd.read_csv(\"Report_TaxiApp_2018-07-17.csv\")\n",
    "\n",
    "#Checagem dos valores iniciais dos dados importados\n",
    "display(taxi_app.head())\n",
    "print(\"Quantidade de Amostras: {0}. \\tQuantidade de Atributos: {1}.\".format(taxi_app.shape[0], taxi_app.shape[1]))"
   ]
  },
  {
   "cell_type": "markdown",
   "metadata": {},
   "source": [
    "Os dados mostrados acima são apenas um breve resumo da quantidade total de dados a serem analisados, no caso *27199*. Com relação aos atributos presentes para esses dados, temos:"
   ]
  },
  {
   "cell_type": "markdown",
   "metadata": {},
   "source": [
    "**Postback Timestamp**: Momento em que a conversão foi registrada."
   ]
  },
  {
   "cell_type": "markdown",
   "metadata": {},
   "source": [
    "**Click ID**: ID único para cada usuário registrado. Pode se repetir caso haja mais de um evento para um único usuário."
   ]
  },
  {
   "cell_type": "markdown",
   "metadata": {},
   "source": [
    "**Transaction ID**: Tipo de transação ou evento."
   ]
  },
  {
   "cell_type": "markdown",
   "metadata": {},
   "source": [
    "**Country**: País em que a conversão foi registrada."
   ]
  },
  {
   "cell_type": "markdown",
   "metadata": {},
   "source": [
    "**Traffic Source ID**: ID único de cada fonte de tráfego, sendo que *Fontes de tráfego* \n",
    "são os canais que veiculam a campanha e possuem um inventário único."
   ]
  },
  {
   "cell_type": "markdown",
   "metadata": {},
   "source": [
    "**OS**: Tipo de sistema operacional da conversão."
   ]
  },
  {
   "cell_type": "markdown",
   "metadata": {},
   "source": [
    "**Isp**: Operadora ou empresa provedora de internet."
   ]
  },
  {
   "cell_type": "markdown",
   "metadata": {},
   "source": [
    "**Mobile Carrier**: Operadora móvel."
   ]
  },
  {
   "cell_type": "markdown",
   "metadata": {},
   "source": [
    "**Connection Type**: Tipo de conexão utilizada (ex.: Wifi, 3G, etc)."
   ]
  },
  {
   "cell_type": "markdown",
   "metadata": {},
   "source": [
    "**IP**: IP registrado no momento da conversão."
   ]
  },
  {
   "cell_type": "markdown",
   "metadata": {},
   "source": [
    "**Site ID**: ID único para cada site disponível no inventário de cada fonte de tráfego. "
   ]
  },
  {
   "cell_type": "markdown",
   "metadata": {},
   "source": [
    "Agora, será apresentado os tipos de cada coluna. Esse método permite o conhecimento do tipo de dado armazenado em cada coluna, podendo assim ser cada coluna analisada de acordo com o mesmo:"
   ]
  },
  {
   "cell_type": "code",
   "execution_count": 4,
   "metadata": {},
   "outputs": [
    {
     "name": "stdout",
     "output_type": "stream",
     "text": [
      "coluna: Postback Timestamp, tipo: <class 'str'>.\n",
      "\n",
      "coluna: Click ID, tipo: <class 'str'>.\n",
      "\n",
      "coluna: Transaction ID, tipo: <class 'str'>.\n",
      "\n",
      "coluna: Country, tipo: <class 'str'>.\n",
      "\n",
      "coluna: Traffic Source ID, tipo: <class 'str'>.\n",
      "\n",
      "coluna: OS, tipo: <class 'str'>.\n",
      "\n",
      "coluna: Isp, tipo: <class 'str'>.\n",
      "\n",
      "coluna: Mobile Carrier, tipo: <class 'float'>.\n",
      "\n",
      "coluna: Connection Type, tipo: <class 'str'>.\n",
      "\n",
      "coluna: IP, tipo: <class 'str'>.\n",
      "\n",
      "coluna: Site ID, tipo: <class 'str'>.\n",
      "\n"
     ]
    }
   ],
   "source": [
    "#Método para verificar os tipos das colunas:\n",
    "for column in taxi_app.columns:\n",
    "        print(\"coluna: {0}, tipo: {1}.\\n\".format(column, type(taxi_app[column][1])))"
   ]
  },
  {
   "cell_type": "markdown",
   "metadata": {},
   "source": [
    "Portanto, com exceção da coluna **Connection Type**, todas as colunas são do tipo *String*, ou seja *Texto*."
   ]
  },
  {
   "cell_type": "markdown",
   "metadata": {},
   "source": [
    "##Tratamento de Dados"
   ]
  },
  {
   "cell_type": "markdown",
   "metadata": {},
   "source": [
    "Nesse tópico ocorrerá a passagem do conjunto de dados e sua verificação por condições que possam impedir sua efetiva e completa análise."
   ]
  },
  {
   "cell_type": "markdown",
   "metadata": {},
   "source": [
    "Inicialmente, será verificada a existência de *Valores Nulos* nos atributos do Conjunto de Dados:"
   ]
  },
  {
   "cell_type": "code",
   "execution_count": 5,
   "metadata": {},
   "outputs": [
    {
     "name": "stdout",
     "output_type": "stream",
     "text": [
      "Quantidade Total de Amostras: 27199\n",
      "\n",
      "\n",
      "Total de Valores Não-Nulos na Coluna Postback Timestamp: 27199.\n",
      "\n",
      "Total de Valores Não-Nulos na Coluna Click ID: 27199.\n",
      "\n",
      "Total de Valores Não-Nulos na Coluna Transaction ID: 27199.\n",
      "\n",
      "Total de Valores Não-Nulos na Coluna Country: 27198.\n",
      "\n",
      "Total de Valores Não-Nulos na Coluna Traffic Source ID: 27199.\n",
      "\n",
      "Total de Valores Não-Nulos na Coluna OS: 27199.\n",
      "\n",
      "Total de Valores Não-Nulos na Coluna Isp: 27195.\n",
      "\n",
      "Total de Valores Não-Nulos na Coluna Mobile Carrier: 7360.\n",
      "\n",
      "Total de Valores Não-Nulos na Coluna Connection Type: 27199.\n",
      "\n",
      "Total de Valores Não-Nulos na Coluna IP: 27199.\n",
      "\n",
      "Total de Valores Não-Nulos na Coluna Site ID: 27189.\n",
      "\n"
     ]
    }
   ],
   "source": [
    "#Método para Verificar Quantidade de Valores Totais de um Conjunto em relação ao Total de Dados Nõa-Nulos em um Atributo:\n",
    "print(\"Quantidade Total de Amostras: {0}\\n\\n\".format(taxi_app.shape[0]))\n",
    "for column in taxi_app.columns:\n",
    "    print(\"Total de Valores Não-Nulos na Coluna {0}: {1}.\\n\".format(column, taxi_app[column].count()))"
   ]
  },
  {
   "cell_type": "markdown",
   "metadata": {},
   "source": [
    "Conforme visto pelo texto acima, as colunas **Country**, **Isp**, **Mobile Carrier** e **Site ID** tem valores não-nulos menores que o total de amostras presentes, concluindo que estas possuem valores nulos:"
   ]
  },
  {
   "cell_type": "code",
   "execution_count": 6,
   "metadata": {},
   "outputs": [
    {
     "data": {
      "text/plain": [
       "Postback Timestamp        0\n",
       "Click ID                  0\n",
       "Transaction ID            0\n",
       "Country                   1\n",
       "Traffic Source ID         0\n",
       "OS                        0\n",
       "Isp                       4\n",
       "Mobile Carrier        19839\n",
       "Connection Type           0\n",
       "IP                        0\n",
       "Site ID                  10\n",
       "dtype: int64"
      ]
     },
     "execution_count": 6,
     "metadata": {},
     "output_type": "execute_result"
    }
   ],
   "source": [
    "taxi_app.isna().sum()"
   ]
  },
  {
   "cell_type": "markdown",
   "metadata": {},
   "source": [
    "Desses atributos contendo valores negativos, a maior quantidade de valores nulos reside em **Mobile Carrier**. Por possuir essa grande quantidade de valores nulos, prejudicando os demais atributos ao retirá-los do conjunto de dados, essa coluna não será utilizada para a análise dos dados: "
   ]
  },
  {
   "cell_type": "code",
   "execution_count": 7,
   "metadata": {},
   "outputs": [
    {
     "data": {
      "text/html": [
       "<div>\n",
       "<style scoped>\n",
       "    .dataframe tbody tr th:only-of-type {\n",
       "        vertical-align: middle;\n",
       "    }\n",
       "\n",
       "    .dataframe tbody tr th {\n",
       "        vertical-align: top;\n",
       "    }\n",
       "\n",
       "    .dataframe thead th {\n",
       "        text-align: right;\n",
       "    }\n",
       "</style>\n",
       "<table border=\"1\" class=\"dataframe\">\n",
       "  <thead>\n",
       "    <tr style=\"text-align: right;\">\n",
       "      <th></th>\n",
       "      <th>Postback Timestamp</th>\n",
       "      <th>Click ID</th>\n",
       "      <th>Transaction ID</th>\n",
       "      <th>Country</th>\n",
       "      <th>Traffic Source ID</th>\n",
       "      <th>OS</th>\n",
       "      <th>Isp</th>\n",
       "      <th>Connection Type</th>\n",
       "      <th>IP</th>\n",
       "      <th>Site ID</th>\n",
       "    </tr>\n",
       "  </thead>\n",
       "  <tbody>\n",
       "    <tr>\n",
       "      <th>0</th>\n",
       "      <td>5/31/18 23:56</td>\n",
       "      <td>w9AJMV0C671MQ33EHLHVRH92</td>\n",
       "      <td>install</td>\n",
       "      <td>Brazil</td>\n",
       "      <td>9a2a1675-584d-491d-9fc9-aeaa674c6e2d</td>\n",
       "      <td>Android</td>\n",
       "      <td>Telefonica Brasil s.a.</td>\n",
       "      <td>Mobile</td>\n",
       "      <td>177,118,105,122</td>\n",
       "      <td>24138</td>\n",
       "    </tr>\n",
       "    <tr>\n",
       "      <th>1</th>\n",
       "      <td>5/31/18 23:55</td>\n",
       "      <td>w2D5EHI6SH04BQAE1VRLD74O</td>\n",
       "      <td>install</td>\n",
       "      <td>Brazil</td>\n",
       "      <td>5cff49a9-50d7-4272-917f-614a822124de</td>\n",
       "      <td>Android</td>\n",
       "      <td>Brasil Telecom Sa - Filial Distrito Federal</td>\n",
       "      <td>Xdsl</td>\n",
       "      <td>201.89.13.176</td>\n",
       "      <td>7c0ajw76178_6761_652_60601652</td>\n",
       "    </tr>\n",
       "    <tr>\n",
       "      <th>2</th>\n",
       "      <td>5/31/18 23:25</td>\n",
       "      <td>wFS5T9UIREPS4QAEHBURP7DG</td>\n",
       "      <td>first_ride</td>\n",
       "      <td>Brazil</td>\n",
       "      <td>9a2a1675-584d-491d-9fc9-aeaa674c6e2d</td>\n",
       "      <td>Android</td>\n",
       "      <td>Claro Brazil</td>\n",
       "      <td>Mobile</td>\n",
       "      <td>187.26.74.123</td>\n",
       "      <td>12088</td>\n",
       "    </tr>\n",
       "    <tr>\n",
       "      <th>3</th>\n",
       "      <td>5/31/18 23:22</td>\n",
       "      <td>wDAIK3RD8OL0LQAEH6N197BG</td>\n",
       "      <td>install</td>\n",
       "      <td>Brazil</td>\n",
       "      <td>9a2a1675-584d-491d-9fc9-aeaa674c6e2d</td>\n",
       "      <td>Android</td>\n",
       "      <td>Telefonica Brasil s.a.</td>\n",
       "      <td>Broadband</td>\n",
       "      <td>201.86.248.165</td>\n",
       "      <td>12088</td>\n",
       "    </tr>\n",
       "    <tr>\n",
       "      <th>4</th>\n",
       "      <td>5/31/18 23:14</td>\n",
       "      <td>wJH7VPPNE5G2SLAEHEHSBR68</td>\n",
       "      <td>install</td>\n",
       "      <td>Brazil</td>\n",
       "      <td>9a2a1675-584d-491d-9fc9-aeaa674c6e2d</td>\n",
       "      <td>Android</td>\n",
       "      <td>Telemar Norte Leste s.a.</td>\n",
       "      <td>Broadband</td>\n",
       "      <td>186.247.61.28</td>\n",
       "      <td>26896</td>\n",
       "    </tr>\n",
       "  </tbody>\n",
       "</table>\n",
       "</div>"
      ],
      "text/plain": [
       "  Postback Timestamp                  Click ID Transaction ID Country  \\\n",
       "0      5/31/18 23:56  w9AJMV0C671MQ33EHLHVRH92        install  Brazil   \n",
       "1      5/31/18 23:55  w2D5EHI6SH04BQAE1VRLD74O        install  Brazil   \n",
       "2      5/31/18 23:25  wFS5T9UIREPS4QAEHBURP7DG     first_ride  Brazil   \n",
       "3      5/31/18 23:22  wDAIK3RD8OL0LQAEH6N197BG        install  Brazil   \n",
       "4      5/31/18 23:14  wJH7VPPNE5G2SLAEHEHSBR68        install  Brazil   \n",
       "\n",
       "                      Traffic Source ID       OS  \\\n",
       "0  9a2a1675-584d-491d-9fc9-aeaa674c6e2d  Android   \n",
       "1  5cff49a9-50d7-4272-917f-614a822124de  Android   \n",
       "2  9a2a1675-584d-491d-9fc9-aeaa674c6e2d  Android   \n",
       "3  9a2a1675-584d-491d-9fc9-aeaa674c6e2d  Android   \n",
       "4  9a2a1675-584d-491d-9fc9-aeaa674c6e2d  Android   \n",
       "\n",
       "                                           Isp Connection Type  \\\n",
       "0                       Telefonica Brasil s.a.          Mobile   \n",
       "1  Brasil Telecom Sa - Filial Distrito Federal            Xdsl   \n",
       "2                                 Claro Brazil          Mobile   \n",
       "3                       Telefonica Brasil s.a.       Broadband   \n",
       "4                     Telemar Norte Leste s.a.       Broadband   \n",
       "\n",
       "                IP                        Site ID  \n",
       "0  177,118,105,122                          24138  \n",
       "1    201.89.13.176  7c0ajw76178_6761_652_60601652  \n",
       "2    187.26.74.123                          12088  \n",
       "3   201.86.248.165                          12088  \n",
       "4    186.247.61.28                          26896  "
      ]
     },
     "metadata": {},
     "output_type": "display_data"
    }
   ],
   "source": [
    "#Remoção da Coluna Mobile Carrier do Dataset\n",
    "taxi_app_antigo = taxi_app\n",
    "taxi_app = taxi_app.drop([\"Mobile Carrier\"], axis = 1)\n",
    "display(taxi_app.head())"
   ]
  },
  {
   "cell_type": "markdown",
   "metadata": {},
   "source": [
    "Com esse atributo retirado do conjunto, será analisado os valores nulos restantes."
   ]
  },
  {
   "cell_type": "markdown",
   "metadata": {},
   "source": [
    "Na Coluna **Country**, por ter apenas um valor nulo, pode-se tanto retirar essa tupla, ou seja linha do conjunto de dados, quanto acrescentar em seu lugar o texto com maior frequência dentro desse atributo:"
   ]
  },
  {
   "cell_type": "code",
   "execution_count": 8,
   "metadata": {},
   "outputs": [
    {
     "name": "stdout",
     "output_type": "stream",
     "text": [
      "Países presentes nesse Conjunto de Dados: ['Brazil' 'United States' 'Spain' 'Mexico' 'Argentina' 'Peru' 'Paraguay'\n",
      " 'Ecuador' 'Portugal' 'Colombia' 'France' 'Costa Rica' nan]\n",
      "\n",
      "Total de Países presentes: 12.\n"
     ]
    }
   ],
   "source": [
    "print(\"Países presentes nesse Conjunto de Dados: {0}\\n\".format(taxi_app[\"Country\"].unique()))\n",
    "print(\"Total de Países presentes: {0}.\".format(taxi_app[\"Country\"].nunique()))"
   ]
  },
  {
   "cell_type": "code",
   "execution_count": 9,
   "metadata": {},
   "outputs": [
    {
     "data": {
      "text/plain": [
       "count      27198\n",
       "unique        12\n",
       "top       Brazil\n",
       "freq       27080\n",
       "Name: Country, dtype: object"
      ]
     },
     "execution_count": 9,
     "metadata": {},
     "output_type": "execute_result"
    }
   ],
   "source": [
    "#Verificação da média de valores presentes na coluna Country\n",
    "taxi_app[\"Country\"].describe()"
   ]
  },
  {
   "cell_type": "markdown",
   "metadata": {},
   "source": [
    "Com isso, foi descoberto que *Brazil* é o país com maior ocorrência de frequência ao longo dos dados. Portanto, será adicionado ao lugar do valor nulo:"
   ]
  },
  {
   "cell_type": "code",
   "execution_count": 10,
   "metadata": {},
   "outputs": [
    {
     "name": "stdout",
     "output_type": "stream",
     "text": [
      "Países presentes nesse Conjunto de Dados: ['Brazil' 'United States' 'Spain' 'Mexico' 'Argentina' 'Peru' 'Paraguay'\n",
      " 'Ecuador' 'Portugal' 'Colombia' 'France' 'Costa Rica']\n",
      "\n",
      "Total de Valores Não-Nulos: 27199\n"
     ]
    }
   ],
   "source": [
    "#Preenchendo o Valor Nulo da coluna Country pelo texto \"Brazil\"\n",
    "taxi_app['Country'].fillna(\"Brazil\", inplace=True)\n",
    "print(\"Países presentes nesse Conjunto de Dados: {0}\\n\".format(taxi_app[\"Country\"].unique()))\n",
    "print(\"Total de Valores Não-Nulos: {0}\".format(taxi_app[\"Country\"].count()))"
   ]
  },
  {
   "cell_type": "markdown",
   "metadata": {},
   "source": [
    "Ainda, é necessário a limpeza dos dados nulos de **Site ID**:"
   ]
  },
  {
   "cell_type": "code",
   "execution_count": 11,
   "metadata": {},
   "outputs": [
    {
     "name": "stdout",
     "output_type": "stream",
     "text": [
      "Total de Sites ID presentes: 568.\n"
     ]
    }
   ],
   "source": [
    "print(\"Total de Sites ID presentes: {0}.\".format(taxi_app[\"Site ID\"].nunique()))"
   ]
  },
  {
   "cell_type": "code",
   "execution_count": 12,
   "metadata": {},
   "outputs": [
    {
     "data": {
      "text/plain": [
       "count     27189\n",
       "unique      568\n",
       "top       12088\n",
       "freq       4575\n",
       "Name: Site ID, dtype: object"
      ]
     },
     "execution_count": 12,
     "metadata": {},
     "output_type": "execute_result"
    }
   ],
   "source": [
    "taxi_app[\"Site ID\"].describe()"
   ]
  },
  {
   "cell_type": "markdown",
   "metadata": {},
   "source": [
    "Como esse atributo possui um dado de maior frequência, coloca-se o mesmo nos valores nulos:"
   ]
  },
  {
   "cell_type": "code",
   "execution_count": 13,
   "metadata": {},
   "outputs": [
    {
     "name": "stdout",
     "output_type": "stream",
     "text": [
      "Total de Valores Nulos em Site ID: 0\n"
     ]
    }
   ],
   "source": [
    "taxi_app[\"Site ID\"].fillna(\"12088\", inplace=True)\n",
    "print(\"Total de Valores Nulos em Site ID: {0}\".format(taxi_app[\"Site ID\"].isna().sum()))"
   ]
  },
  {
   "cell_type": "markdown",
   "metadata": {},
   "source": [
    "Por último, têm-se a limpeza de dados de **Isp**:"
   ]
  },
  {
   "cell_type": "code",
   "execution_count": 14,
   "metadata": {},
   "outputs": [
    {
     "name": "stdout",
     "output_type": "stream",
     "text": [
      "Total de Operadoras presentes: 2129.\n"
     ]
    }
   ],
   "source": [
    "print(\"Total de Operadoras presentes: {0}.\".format(taxi_app[\"Isp\"].nunique()))"
   ]
  },
  {
   "cell_type": "code",
   "execution_count": 15,
   "metadata": {},
   "outputs": [
    {
     "data": {
      "text/plain": [
       "count            27195\n",
       "unique            2129\n",
       "top       Claro Brazil\n",
       "freq              6997\n",
       "Name: Isp, dtype: object"
      ]
     },
     "execution_count": 15,
     "metadata": {},
     "output_type": "execute_result"
    }
   ],
   "source": [
    "taxi_app[\"Isp\"].describe()"
   ]
  },
  {
   "cell_type": "markdown",
   "metadata": {},
   "source": [
    "Portanto, ocorre a inserção do dado de maior frequência nos valores nulos:"
   ]
  },
  {
   "cell_type": "code",
   "execution_count": 16,
   "metadata": {},
   "outputs": [
    {
     "name": "stdout",
     "output_type": "stream",
     "text": [
      "Total de Valores Nulos em Isp: 0\n"
     ]
    }
   ],
   "source": [
    "taxi_app[\"Isp\"].fillna(\"Claro Brazil\", inplace=True)\n",
    "print(\"Total de Valores Nulos em Isp: {0}\".format(taxi_app[\"Isp\"].isna().sum()))"
   ]
  },
  {
   "cell_type": "code",
   "execution_count": 17,
   "metadata": {},
   "outputs": [
    {
     "name": "stdout",
     "output_type": "stream",
     "text": [
      "Total de Dados Não-Nulos no conjunto:\n",
      "\n",
      "Postback Timestamp    27199\n",
      "Click ID              27199\n",
      "Transaction ID        27199\n",
      "Country               27199\n",
      "Traffic Source ID     27199\n",
      "OS                    27199\n",
      "Isp                   27199\n",
      "Connection Type       27199\n",
      "IP                    27199\n",
      "Site ID               27199\n",
      "dtype: int64\n"
     ]
    }
   ],
   "source": [
    "print(\"Total de Dados Não-Nulos no conjunto:\\n\\n{0}\".format(taxi_app.count()))"
   ]
  },
  {
   "cell_type": "markdown",
   "metadata": {},
   "source": [
    "Logo, não há mais valores nulos no Dataset, ou seja, o Conjunto de Dados."
   ]
  },
  {
   "cell_type": "markdown",
   "metadata": {},
   "source": [
    "Por fim da limpeza de dados, será verificada a existência de valores duplicados no Dataset:"
   ]
  },
  {
   "cell_type": "code",
   "execution_count": 18,
   "metadata": {},
   "outputs": [
    {
     "name": "stdout",
     "output_type": "stream",
     "text": [
      "Não possui valores duplicados\n"
     ]
    }
   ],
   "source": [
    "#Método para verificar se há valores duplicados no dataset\n",
    "def duplicado(df):\n",
    "    if df.duplicated().any():\n",
    "        print(\"Possui {0} valores duplicados\".format(df.duplicated().sum()))\n",
    "    else:\n",
    "        print(\"Não possui valores duplicados\")\n",
    "        \n",
    "duplicado(taxi_app)"
   ]
  },
  {
   "cell_type": "markdown",
   "metadata": {},
   "source": [
    "Portanto, não há a presença de valores duplicados nos dados a serem analisados."
   ]
  },
  {
   "cell_type": "markdown",
   "metadata": {},
   "source": [
    "##Análise dos Dados Tratados"
   ]
  },
  {
   "cell_type": "markdown",
   "metadata": {},
   "source": [
    "Agora, ocorrerá a análise dos dados tratados através da inferência estatística."
   ]
  },
  {
   "cell_type": "markdown",
   "metadata": {},
   "source": [
    "###Breve Descrição das Estratégias de Aquisições Pagas"
   ]
  },
  {
   "cell_type": "markdown",
   "metadata": {},
   "source": [
    "Primeiramente será deixado claro alguns conceitos de critério de **Estratégia de Aquisições Pagas**, tendo em vista que foi esse a forma de marketing escolhida pela empresa cujo os dados serão analisados. Essa breve descrição tem por objetivo classificar corretamente o tipo de aquisição no qual a empresa poderia ter um melhor retorno acerca de seu produto, bem como utilizá-lo na análise dos tipos de atributos presentes em seus dados."
   ]
  },
  {
   "cell_type": "markdown",
   "metadata": {},
   "source": [
    "De acordo com as informações oficiais da [RankMyApp](https://www.rankmyapp.com/pt-br/solucoes/aquisicoes-pagas/), no tópico **Aquisição Paga de Usuários** têm-se três tipos:"
   ]
  },
  {
   "cell_type": "markdown",
   "metadata": {},
   "source": [
    "**Custos da Publicação por Mil(CPM)**: Nessa estratégia, recomendada por aplicativos com *um potencial em um período determinado, principalmente por causa de um evento específico*, é utilizado a cobrança pelo número de impressões do post do mesmo em uma rede social, sendo essa estratégia vantajosa para investimentos em ***Custos por Clique***."
   ]
  },
  {
   "cell_type": "markdown",
   "metadata": {},
   "source": [
    "**Custo por Ação(CPA)**:já nessa estratégia é necessário que *o usuário faça também um pré-cadastro, ou entre em contato, e não apenas clique no produto*, para que seja efetuado a cobrança do mesmo. Portanto, a cobrança é efetuada através de ***uma ação específica realizada pelo usuário com seu produto***."
   ]
  },
  {
   "cell_type": "markdown",
   "metadata": {},
   "source": [
    "**Custo por Instalação(CPI)**: Utilizado principalmente pela área de ***Mobile Marketing***, nessa estratégica, sendo necessário a *interação direta com o público-alvo por parte da empresa contratante*, principalmente para apresentá-los os motivos pelos quais o público deve consumir seu produto, a cobrança ocorre por meio dos downloads feitos pelos usuários. Para isso, é necessário ***decidir precisamente qual público o seu aplicativo quer atingir com essa ação***."
   ]
  },
  {
   "cell_type": "markdown",
   "metadata": {},
   "source": [
    "Portanto, para a empresa 9CaBer, é necessário usar a estratégia **Custo por Instalação**. Porém, pode-se também ser utilizado **Custo por Ação**, tendo em vista que, por ser um aplicativo de taxi, é necessário o cadastro dos usuários, bem como o início das corridas para que tal aplicativo exerca seu objetivo."
   ]
  },
  {
   "cell_type": "markdown",
   "metadata": {},
   "source": [
    "    "
   ]
  },
  {
   "cell_type": "code",
   "execution_count": 147,
   "metadata": {},
   "outputs": [],
   "source": [
    "#Criando um método para a conversão dos dados únicos para a geração de gráficos:\n",
    "def padrao_colunas(atributo):\n",
    "    labels = [x for x in range(0, taxi_app[atributo].nunique())]\n",
    "    return (labels)"
   ]
  },
  {
   "cell_type": "markdown",
   "metadata": {},
   "source": [
    "Primeiramente é preciso saber a quantidade de valores únicos em cada atributo:"
   ]
  },
  {
   "cell_type": "code",
   "execution_count": 61,
   "metadata": {},
   "outputs": [
    {
     "name": "stdout",
     "output_type": "stream",
     "text": [
      "Total de valores únicos em Postback Timestamp: 14355.\n",
      "Total de valores únicos em Click ID: 26241.\n",
      "Total de valores únicos em Transaction ID: 3.\n",
      "Total de valores únicos em Country: 12.\n",
      "Total de valores únicos em Traffic Source ID: 14.\n",
      "Total de valores únicos em OS: 5.\n",
      "Total de valores únicos em Isp: 2129.\n",
      "Total de valores únicos em Connection Type: 7.\n",
      "Total de valores únicos em IP: 24124.\n",
      "Total de valores únicos em Site ID: 568.\n"
     ]
    }
   ],
   "source": [
    "for column in taxi_app.columns:\n",
    "    print(\"Total de valores únicos em {0}: {1}.\".format(column, taxi_app[column].nunique()))"
   ]
  },
  {
   "cell_type": "markdown",
   "metadata": {},
   "source": [
    "Como existem valores com uma grande quantidade de dados diferentes em alguns atributos, uma das melhores opções de comparação é utilizar os atributos que possuem os menores números de dados diferentes, garantindo uma comparação mais limpa e de fácil entendimento. Portanto, serão usados de base comparativa os atributos **Transaction ID**, **Country**, **Traffic Source ID**, **OS** e **Connection Type**. Além disso, para melhor visualização gráfica, será utilizada o atributo **Click ID** como eixo vertical."
   ]
  },
  {
   "cell_type": "markdown",
   "metadata": {},
   "source": [
    "Inicialmente será analisado os dados do atributo **Country**, sendo apresentados novamente a seguir:"
   ]
  },
  {
   "cell_type": "code",
   "execution_count": 161,
   "metadata": {},
   "outputs": [
    {
     "data": {
      "text/html": [
       "<div>\n",
       "<style scoped>\n",
       "    .dataframe tbody tr th:only-of-type {\n",
       "        vertical-align: middle;\n",
       "    }\n",
       "\n",
       "    .dataframe tbody tr th {\n",
       "        vertical-align: top;\n",
       "    }\n",
       "\n",
       "    .dataframe thead th {\n",
       "        text-align: right;\n",
       "    }\n",
       "</style>\n",
       "<table border=\"1\" class=\"dataframe\">\n",
       "  <thead>\n",
       "    <tr style=\"text-align: right;\">\n",
       "      <th></th>\n",
       "      <th>Postback Timestamp</th>\n",
       "      <th>Click ID</th>\n",
       "      <th>Transaction ID</th>\n",
       "      <th>Traffic Source ID</th>\n",
       "      <th>OS</th>\n",
       "      <th>Isp</th>\n",
       "      <th>Connection Type</th>\n",
       "      <th>IP</th>\n",
       "      <th>Site ID</th>\n",
       "    </tr>\n",
       "    <tr>\n",
       "      <th>Country</th>\n",
       "      <th></th>\n",
       "      <th></th>\n",
       "      <th></th>\n",
       "      <th></th>\n",
       "      <th></th>\n",
       "      <th></th>\n",
       "      <th></th>\n",
       "      <th></th>\n",
       "      <th></th>\n",
       "    </tr>\n",
       "  </thead>\n",
       "  <tbody>\n",
       "    <tr>\n",
       "      <th>Argentina</th>\n",
       "      <td>4</td>\n",
       "      <td>4</td>\n",
       "      <td>4</td>\n",
       "      <td>4</td>\n",
       "      <td>4</td>\n",
       "      <td>4</td>\n",
       "      <td>4</td>\n",
       "      <td>4</td>\n",
       "      <td>4</td>\n",
       "    </tr>\n",
       "    <tr>\n",
       "      <th>Brazil</th>\n",
       "      <td>27081</td>\n",
       "      <td>27081</td>\n",
       "      <td>27081</td>\n",
       "      <td>27081</td>\n",
       "      <td>27081</td>\n",
       "      <td>27081</td>\n",
       "      <td>27081</td>\n",
       "      <td>27081</td>\n",
       "      <td>27081</td>\n",
       "    </tr>\n",
       "    <tr>\n",
       "      <th>Colombia</th>\n",
       "      <td>8</td>\n",
       "      <td>8</td>\n",
       "      <td>8</td>\n",
       "      <td>8</td>\n",
       "      <td>8</td>\n",
       "      <td>8</td>\n",
       "      <td>8</td>\n",
       "      <td>8</td>\n",
       "      <td>8</td>\n",
       "    </tr>\n",
       "    <tr>\n",
       "      <th>Costa Rica</th>\n",
       "      <td>1</td>\n",
       "      <td>1</td>\n",
       "      <td>1</td>\n",
       "      <td>1</td>\n",
       "      <td>1</td>\n",
       "      <td>1</td>\n",
       "      <td>1</td>\n",
       "      <td>1</td>\n",
       "      <td>1</td>\n",
       "    </tr>\n",
       "    <tr>\n",
       "      <th>Ecuador</th>\n",
       "      <td>7</td>\n",
       "      <td>7</td>\n",
       "      <td>7</td>\n",
       "      <td>7</td>\n",
       "      <td>7</td>\n",
       "      <td>7</td>\n",
       "      <td>7</td>\n",
       "      <td>7</td>\n",
       "      <td>7</td>\n",
       "    </tr>\n",
       "    <tr>\n",
       "      <th>France</th>\n",
       "      <td>1</td>\n",
       "      <td>1</td>\n",
       "      <td>1</td>\n",
       "      <td>1</td>\n",
       "      <td>1</td>\n",
       "      <td>1</td>\n",
       "      <td>1</td>\n",
       "      <td>1</td>\n",
       "      <td>1</td>\n",
       "    </tr>\n",
       "    <tr>\n",
       "      <th>Mexico</th>\n",
       "      <td>4</td>\n",
       "      <td>4</td>\n",
       "      <td>4</td>\n",
       "      <td>4</td>\n",
       "      <td>4</td>\n",
       "      <td>4</td>\n",
       "      <td>4</td>\n",
       "      <td>4</td>\n",
       "      <td>4</td>\n",
       "    </tr>\n",
       "    <tr>\n",
       "      <th>Paraguay</th>\n",
       "      <td>4</td>\n",
       "      <td>4</td>\n",
       "      <td>4</td>\n",
       "      <td>4</td>\n",
       "      <td>4</td>\n",
       "      <td>4</td>\n",
       "      <td>4</td>\n",
       "      <td>4</td>\n",
       "      <td>4</td>\n",
       "    </tr>\n",
       "    <tr>\n",
       "      <th>Peru</th>\n",
       "      <td>8</td>\n",
       "      <td>8</td>\n",
       "      <td>8</td>\n",
       "      <td>8</td>\n",
       "      <td>8</td>\n",
       "      <td>8</td>\n",
       "      <td>8</td>\n",
       "      <td>8</td>\n",
       "      <td>8</td>\n",
       "    </tr>\n",
       "    <tr>\n",
       "      <th>Portugal</th>\n",
       "      <td>1</td>\n",
       "      <td>1</td>\n",
       "      <td>1</td>\n",
       "      <td>1</td>\n",
       "      <td>1</td>\n",
       "      <td>1</td>\n",
       "      <td>1</td>\n",
       "      <td>1</td>\n",
       "      <td>1</td>\n",
       "    </tr>\n",
       "    <tr>\n",
       "      <th>Spain</th>\n",
       "      <td>2</td>\n",
       "      <td>2</td>\n",
       "      <td>2</td>\n",
       "      <td>2</td>\n",
       "      <td>2</td>\n",
       "      <td>2</td>\n",
       "      <td>2</td>\n",
       "      <td>2</td>\n",
       "      <td>2</td>\n",
       "    </tr>\n",
       "    <tr>\n",
       "      <th>United States</th>\n",
       "      <td>78</td>\n",
       "      <td>78</td>\n",
       "      <td>78</td>\n",
       "      <td>78</td>\n",
       "      <td>78</td>\n",
       "      <td>78</td>\n",
       "      <td>78</td>\n",
       "      <td>78</td>\n",
       "      <td>78</td>\n",
       "    </tr>\n",
       "  </tbody>\n",
       "</table>\n",
       "</div>"
      ],
      "text/plain": [
       "               Postback Timestamp  Click ID  Transaction ID  \\\n",
       "Country                                                       \n",
       "Argentina                       4         4               4   \n",
       "Brazil                      27081     27081           27081   \n",
       "Colombia                        8         8               8   \n",
       "Costa Rica                      1         1               1   \n",
       "Ecuador                         7         7               7   \n",
       "France                          1         1               1   \n",
       "Mexico                          4         4               4   \n",
       "Paraguay                        4         4               4   \n",
       "Peru                            8         8               8   \n",
       "Portugal                        1         1               1   \n",
       "Spain                           2         2               2   \n",
       "United States                  78        78              78   \n",
       "\n",
       "               Traffic Source ID     OS    Isp  Connection Type     IP  \\\n",
       "Country                                                                  \n",
       "Argentina                      4      4      4                4      4   \n",
       "Brazil                     27081  27081  27081            27081  27081   \n",
       "Colombia                       8      8      8                8      8   \n",
       "Costa Rica                     1      1      1                1      1   \n",
       "Ecuador                        7      7      7                7      7   \n",
       "France                         1      1      1                1      1   \n",
       "Mexico                         4      4      4                4      4   \n",
       "Paraguay                       4      4      4                4      4   \n",
       "Peru                           8      8      8                8      8   \n",
       "Portugal                       1      1      1                1      1   \n",
       "Spain                          2      2      2                2      2   \n",
       "United States                 78     78     78               78     78   \n",
       "\n",
       "               Site ID  \n",
       "Country                 \n",
       "Argentina            4  \n",
       "Brazil           27081  \n",
       "Colombia             8  \n",
       "Costa Rica           1  \n",
       "Ecuador              7  \n",
       "France               1  \n",
       "Mexico               4  \n",
       "Paraguay             4  \n",
       "Peru                 8  \n",
       "Portugal             1  \n",
       "Spain                2  \n",
       "United States       78  "
      ]
     },
     "execution_count": 161,
     "metadata": {},
     "output_type": "execute_result"
    }
   ],
   "source": [
    "#Amostragem dos Países\n",
    "taxi_app.groupby([\"Country\"]).count()"
   ]
  },
  {
   "cell_type": "code",
   "execution_count": 169,
   "metadata": {},
   "outputs": [
    {
     "data": {
      "image/png": "[encoded data removed]",
      "text/plain": [
       "<Figure size 432x288 with 1 Axes>"
      ]
     },
     "metadata": {
      "needs_background": "light"
     },
     "output_type": "display_data"
    }
   ],
   "source": [
    "#Criação do Gráfico de Países com relação à quantidade de Cliques\n",
    "country = taxi_app.groupby([\"Country\"], as_index=True)[\"Click ID\"].count()\n",
    "country_labels = padrao_colunas(\"Country\")\n",
    "country_data = dict(zip(country_labels,country.keys()))\n",
    "pt.plot(country_labels, country.get_values());\n",
    "pt.title(\"Países por quantidade de Cliques\");\n",
    "pt.xlabel(\"Países\");\n",
    "pt.ylabel(\"Quantidade de Cliques\");"
   ]
  },
  {
   "cell_type": "code",
   "execution_count": 165,
   "metadata": {},
   "outputs": [
    {
     "name": "stdout",
     "output_type": "stream",
     "text": [
      "Legenda dos Valores:\n",
      "Índice 0: País Postback Timestamp.\n",
      "Índice 1: País Click ID.\n",
      "Índice 2: País Transaction ID.\n",
      "Índice 3: País Traffic Source ID.\n",
      "Índice 4: País OS.\n",
      "Índice 5: País Isp.\n",
      "Índice 6: País Connection Type.\n",
      "Índice 7: País IP.\n",
      "Índice 8: País Site ID.\n"
     ]
    }
   ],
   "source": [
    "print(\"Legenda dos Valores:\")\n",
    "for i in country_data:\n",
    "    print(\"Índice {0}: País {1}.\".format(i, country_data[i]))"
   ]
  },
  {
   "cell_type": "markdown",
   "metadata": {},
   "source": [
    "Com base nos dados de contagem e no gráfico acima, pode-se concluir que o país que possui a maior parte dos acessos ao produto é o *Brazil*, seguido de *United States*. Porém, tem países com baixíssimos acessos, como *Portugal* e *Costa Rica*, com apenas um acesso cada. O ideal seria uma maior campanha especialmente em países com menor número de acessos. Portanto, o atributo **Country** pode ser um fato significativo para a criação da próxima campanha. "
   ]
  },
  {
   "cell_type": "markdown",
   "metadata": {},
   "source": [
    "    "
   ]
  },
  {
   "cell_type": "markdown",
   "metadata": {},
   "source": [
    "Agora, será analisado o atributo **Transaction ID**:"
   ]
  },
  {
   "cell_type": "code",
   "execution_count": 166,
   "metadata": {},
   "outputs": [
    {
     "data": {
      "text/html": [
       "<div>\n",
       "<style scoped>\n",
       "    .dataframe tbody tr th:only-of-type {\n",
       "        vertical-align: middle;\n",
       "    }\n",
       "\n",
       "    .dataframe tbody tr th {\n",
       "        vertical-align: top;\n",
       "    }\n",
       "\n",
       "    .dataframe thead th {\n",
       "        text-align: right;\n",
       "    }\n",
       "</style>\n",
       "<table border=\"1\" class=\"dataframe\">\n",
       "  <thead>\n",
       "    <tr style=\"text-align: right;\">\n",
       "      <th></th>\n",
       "      <th>Postback Timestamp</th>\n",
       "      <th>Click ID</th>\n",
       "      <th>Country</th>\n",
       "      <th>Traffic Source ID</th>\n",
       "      <th>OS</th>\n",
       "      <th>Isp</th>\n",
       "      <th>Connection Type</th>\n",
       "      <th>IP</th>\n",
       "      <th>Site ID</th>\n",
       "    </tr>\n",
       "    <tr>\n",
       "      <th>Transaction ID</th>\n",
       "      <th></th>\n",
       "      <th></th>\n",
       "      <th></th>\n",
       "      <th></th>\n",
       "      <th></th>\n",
       "      <th></th>\n",
       "      <th></th>\n",
       "      <th></th>\n",
       "      <th></th>\n",
       "    </tr>\n",
       "  </thead>\n",
       "  <tbody>\n",
       "    <tr>\n",
       "      <th>card_added</th>\n",
       "      <td>1005</td>\n",
       "      <td>1005</td>\n",
       "      <td>1005</td>\n",
       "      <td>1005</td>\n",
       "      <td>1005</td>\n",
       "      <td>1005</td>\n",
       "      <td>1005</td>\n",
       "      <td>1005</td>\n",
       "      <td>1005</td>\n",
       "    </tr>\n",
       "    <tr>\n",
       "      <th>first_ride</th>\n",
       "      <td>693</td>\n",
       "      <td>693</td>\n",
       "      <td>693</td>\n",
       "      <td>693</td>\n",
       "      <td>693</td>\n",
       "      <td>693</td>\n",
       "      <td>693</td>\n",
       "      <td>693</td>\n",
       "      <td>693</td>\n",
       "    </tr>\n",
       "    <tr>\n",
       "      <th>install</th>\n",
       "      <td>25501</td>\n",
       "      <td>25501</td>\n",
       "      <td>25501</td>\n",
       "      <td>25501</td>\n",
       "      <td>25501</td>\n",
       "      <td>25501</td>\n",
       "      <td>25501</td>\n",
       "      <td>25501</td>\n",
       "      <td>25501</td>\n",
       "    </tr>\n",
       "  </tbody>\n",
       "</table>\n",
       "</div>"
      ],
      "text/plain": [
       "                Postback Timestamp  Click ID  Country  Traffic Source ID  \\\n",
       "Transaction ID                                                             \n",
       "card_added                    1005      1005     1005               1005   \n",
       "first_ride                     693       693      693                693   \n",
       "install                      25501     25501    25501              25501   \n",
       "\n",
       "                   OS    Isp  Connection Type     IP  Site ID  \n",
       "Transaction ID                                                 \n",
       "card_added       1005   1005             1005   1005     1005  \n",
       "first_ride        693    693              693    693      693  \n",
       "install         25501  25501            25501  25501    25501  "
      ]
     },
     "execution_count": 166,
     "metadata": {},
     "output_type": "execute_result"
    }
   ],
   "source": [
    "#Amostragem dos tipos de Transações realizadas\n",
    "taxi_app.groupby([\"Transaction ID\"]).count()"
   ]
  },
  {
   "cell_type": "code",
   "execution_count": 178,
   "metadata": {},
   "outputs": [
    {
     "data": {
      "image/png": "[encoded data removed]",
      "text/plain": [
       "<Figure size 432x288 with 1 Axes>"
      ]
     },
     "metadata": {
      "needs_background": "light"
     },
     "output_type": "display_data"
    }
   ],
   "source": [
    "#Criação do gráfico de Tipos de Transações por Cliques\n",
    "transaction = taxi_app.groupby([\"Transaction ID\"])[\"Click ID\"].count()\n",
    "pt.bar(transaction.keys(), transaction.get_values());\n",
    "pt.title(\"Tipos de Transações por Clique\");\n",
    "pt.xlabel(\"Transações\");\n",
    "pt.ylabel(\"Quantidade de Cliques\");"
   ]
  },
  {
   "cell_type": "markdown",
   "metadata": {},
   "source": [
    "A maioria das Transações realizadas ocorreram em média por *Install*, seguido por *Card_Added* e *First_Ride*, respectivamente. A quantidade de dados com relação às *Novas Instalações*, no caso *Install*, comprova a necessidade do uso da estratégia de **Custo por Instalação**, por ser um método de alto uso pelos usuários. Porém, ainda há usuários que realizaram o cadastro de novos cartões de crédito"
   ]
  },
  {
   "cell_type": "markdown",
   "metadata": {},
   "source": [
    "Ainda também, há o atributo **OS** a ser analisado:"
   ]
  },
  {
   "cell_type": "code",
   "execution_count": 179,
   "metadata": {},
   "outputs": [
    {
     "data": {
      "text/html": [
       "<div>\n",
       "<style scoped>\n",
       "    .dataframe tbody tr th:only-of-type {\n",
       "        vertical-align: middle;\n",
       "    }\n",
       "\n",
       "    .dataframe tbody tr th {\n",
       "        vertical-align: top;\n",
       "    }\n",
       "\n",
       "    .dataframe thead th {\n",
       "        text-align: right;\n",
       "    }\n",
       "</style>\n",
       "<table border=\"1\" class=\"dataframe\">\n",
       "  <thead>\n",
       "    <tr style=\"text-align: right;\">\n",
       "      <th></th>\n",
       "      <th>Postback Timestamp</th>\n",
       "      <th>Click ID</th>\n",
       "      <th>Transaction ID</th>\n",
       "      <th>Country</th>\n",
       "      <th>Traffic Source ID</th>\n",
       "      <th>Isp</th>\n",
       "      <th>Connection Type</th>\n",
       "      <th>IP</th>\n",
       "      <th>Site ID</th>\n",
       "    </tr>\n",
       "    <tr>\n",
       "      <th>OS</th>\n",
       "      <th></th>\n",
       "      <th></th>\n",
       "      <th></th>\n",
       "      <th></th>\n",
       "      <th></th>\n",
       "      <th></th>\n",
       "      <th></th>\n",
       "      <th></th>\n",
       "      <th></th>\n",
       "    </tr>\n",
       "  </thead>\n",
       "  <tbody>\n",
       "    <tr>\n",
       "      <th>Android</th>\n",
       "      <td>26671</td>\n",
       "      <td>26671</td>\n",
       "      <td>26671</td>\n",
       "      <td>26671</td>\n",
       "      <td>26671</td>\n",
       "      <td>26671</td>\n",
       "      <td>26671</td>\n",
       "      <td>26671</td>\n",
       "      <td>26671</td>\n",
       "    </tr>\n",
       "    <tr>\n",
       "      <th>IOS</th>\n",
       "      <td>402</td>\n",
       "      <td>402</td>\n",
       "      <td>402</td>\n",
       "      <td>402</td>\n",
       "      <td>402</td>\n",
       "      <td>402</td>\n",
       "      <td>402</td>\n",
       "      <td>402</td>\n",
       "      <td>402</td>\n",
       "    </tr>\n",
       "    <tr>\n",
       "      <th>Other desktop OS</th>\n",
       "      <td>75</td>\n",
       "      <td>75</td>\n",
       "      <td>75</td>\n",
       "      <td>75</td>\n",
       "      <td>75</td>\n",
       "      <td>75</td>\n",
       "      <td>75</td>\n",
       "      <td>75</td>\n",
       "      <td>75</td>\n",
       "    </tr>\n",
       "    <tr>\n",
       "      <th>RIM OS</th>\n",
       "      <td>1</td>\n",
       "      <td>1</td>\n",
       "      <td>1</td>\n",
       "      <td>1</td>\n",
       "      <td>1</td>\n",
       "      <td>1</td>\n",
       "      <td>1</td>\n",
       "      <td>1</td>\n",
       "      <td>1</td>\n",
       "    </tr>\n",
       "    <tr>\n",
       "      <th>Windows</th>\n",
       "      <td>50</td>\n",
       "      <td>50</td>\n",
       "      <td>50</td>\n",
       "      <td>50</td>\n",
       "      <td>50</td>\n",
       "      <td>50</td>\n",
       "      <td>50</td>\n",
       "      <td>50</td>\n",
       "      <td>50</td>\n",
       "    </tr>\n",
       "  </tbody>\n",
       "</table>\n",
       "</div>"
      ],
      "text/plain": [
       "                  Postback Timestamp  Click ID  Transaction ID  Country  \\\n",
       "OS                                                                        \n",
       "Android                        26671     26671           26671    26671   \n",
       "IOS                              402       402             402      402   \n",
       "Other desktop OS                  75        75              75       75   \n",
       "RIM OS                             1         1               1        1   \n",
       "Windows                           50        50              50       50   \n",
       "\n",
       "                  Traffic Source ID    Isp  Connection Type     IP  Site ID  \n",
       "OS                                                                           \n",
       "Android                       26671  26671            26671  26671    26671  \n",
       "IOS                             402    402              402    402      402  \n",
       "Other desktop OS                 75     75               75     75       75  \n",
       "RIM OS                            1      1                1      1        1  \n",
       "Windows                          50     50               50     50       50  "
      ]
     },
     "execution_count": 179,
     "metadata": {},
     "output_type": "execute_result"
    }
   ],
   "source": [
    "#Amostragem dos tipos de Transações realizadas\n",
    "taxi_app.groupby([\"OS\"]).count()"
   ]
  },
  {
   "cell_type": "markdown",
   "metadata": {},
   "source": [
    "A maioria dos Sistemas Operacionais utilizados são *Sistemas Mobile*, sendo o principal o **Sistema Android**, seguido do **IOS**. "
   ]
  },
  {
   "cell_type": "code",
   "execution_count": 180,
   "metadata": {},
   "outputs": [
    {
     "data": {
      "text/html": [
       "<div>\n",
       "<style scoped>\n",
       "    .dataframe tbody tr th:only-of-type {\n",
       "        vertical-align: middle;\n",
       "    }\n",
       "\n",
       "    .dataframe tbody tr th {\n",
       "        vertical-align: top;\n",
       "    }\n",
       "\n",
       "    .dataframe thead th {\n",
       "        text-align: right;\n",
       "    }\n",
       "</style>\n",
       "<table border=\"1\" class=\"dataframe\">\n",
       "  <thead>\n",
       "    <tr style=\"text-align: right;\">\n",
       "      <th></th>\n",
       "      <th>Postback Timestamp</th>\n",
       "      <th>Click ID</th>\n",
       "      <th>Transaction ID</th>\n",
       "      <th>Country</th>\n",
       "      <th>Traffic Source ID</th>\n",
       "      <th>OS</th>\n",
       "      <th>Isp</th>\n",
       "      <th>IP</th>\n",
       "      <th>Site ID</th>\n",
       "    </tr>\n",
       "    <tr>\n",
       "      <th>Connection Type</th>\n",
       "      <th></th>\n",
       "      <th></th>\n",
       "      <th></th>\n",
       "      <th></th>\n",
       "      <th></th>\n",
       "      <th></th>\n",
       "      <th></th>\n",
       "      <th></th>\n",
       "      <th></th>\n",
       "    </tr>\n",
       "  </thead>\n",
       "  <tbody>\n",
       "    <tr>\n",
       "      <th>Broadband</th>\n",
       "      <td>19307</td>\n",
       "      <td>19307</td>\n",
       "      <td>19307</td>\n",
       "      <td>19307</td>\n",
       "      <td>19307</td>\n",
       "      <td>19307</td>\n",
       "      <td>19307</td>\n",
       "      <td>19307</td>\n",
       "      <td>19307</td>\n",
       "    </tr>\n",
       "    <tr>\n",
       "      <th>Cable</th>\n",
       "      <td>13</td>\n",
       "      <td>13</td>\n",
       "      <td>13</td>\n",
       "      <td>13</td>\n",
       "      <td>13</td>\n",
       "      <td>13</td>\n",
       "      <td>13</td>\n",
       "      <td>13</td>\n",
       "      <td>13</td>\n",
       "    </tr>\n",
       "    <tr>\n",
       "      <th>Dialup</th>\n",
       "      <td>78</td>\n",
       "      <td>78</td>\n",
       "      <td>78</td>\n",
       "      <td>78</td>\n",
       "      <td>78</td>\n",
       "      <td>78</td>\n",
       "      <td>78</td>\n",
       "      <td>78</td>\n",
       "      <td>78</td>\n",
       "    </tr>\n",
       "    <tr>\n",
       "      <th>Mobile</th>\n",
       "      <td>7362</td>\n",
       "      <td>7362</td>\n",
       "      <td>7362</td>\n",
       "      <td>7362</td>\n",
       "      <td>7362</td>\n",
       "      <td>7362</td>\n",
       "      <td>7362</td>\n",
       "      <td>7362</td>\n",
       "      <td>7362</td>\n",
       "    </tr>\n",
       "    <tr>\n",
       "      <th>Satellite</th>\n",
       "      <td>32</td>\n",
       "      <td>32</td>\n",
       "      <td>32</td>\n",
       "      <td>32</td>\n",
       "      <td>32</td>\n",
       "      <td>32</td>\n",
       "      <td>32</td>\n",
       "      <td>32</td>\n",
       "      <td>32</td>\n",
       "    </tr>\n",
       "    <tr>\n",
       "      <th>Wireless</th>\n",
       "      <td>17</td>\n",
       "      <td>17</td>\n",
       "      <td>17</td>\n",
       "      <td>17</td>\n",
       "      <td>17</td>\n",
       "      <td>17</td>\n",
       "      <td>17</td>\n",
       "      <td>17</td>\n",
       "      <td>17</td>\n",
       "    </tr>\n",
       "    <tr>\n",
       "      <th>Xdsl</th>\n",
       "      <td>390</td>\n",
       "      <td>390</td>\n",
       "      <td>390</td>\n",
       "      <td>390</td>\n",
       "      <td>390</td>\n",
       "      <td>390</td>\n",
       "      <td>390</td>\n",
       "      <td>390</td>\n",
       "      <td>390</td>\n",
       "    </tr>\n",
       "  </tbody>\n",
       "</table>\n",
       "</div>"
      ],
      "text/plain": [
       "                 Postback Timestamp  Click ID  Transaction ID  Country  \\\n",
       "Connection Type                                                          \n",
       "Broadband                     19307     19307           19307    19307   \n",
       "Cable                            13        13              13       13   \n",
       "Dialup                           78        78              78       78   \n",
       "Mobile                         7362      7362            7362     7362   \n",
       "Satellite                        32        32              32       32   \n",
       "Wireless                         17        17              17       17   \n",
       "Xdsl                            390       390             390      390   \n",
       "\n",
       "                 Traffic Source ID     OS    Isp     IP  Site ID  \n",
       "Connection Type                                                   \n",
       "Broadband                    19307  19307  19307  19307    19307  \n",
       "Cable                           13     13     13     13       13  \n",
       "Dialup                          78     78     78     78       78  \n",
       "Mobile                        7362   7362   7362   7362     7362  \n",
       "Satellite                       32     32     32     32       32  \n",
       "Wireless                        17     17     17     17       17  \n",
       "Xdsl                           390    390    390    390      390  "
      ]
     },
     "execution_count": 180,
     "metadata": {},
     "output_type": "execute_result"
    }
   ],
   "source": [
    "#Amostragem dos tipos de Transações realizadas\n",
    "taxi_app.groupby([\"Connection Type\"]).count()"
   ]
  },
  {
   "cell_type": "markdown",
   "metadata": {},
   "source": [
    "Nesse aspecto, a maior parte dos usuários utilizam a **Internet Banda Larga**, ou **Broadband**, como tipo de conexão para o acesso ao serviço, seguido da **Internet de Celular**, ou **Mobile**"
   ]
  },
  {
   "cell_type": "code",
   "execution_count": 181,
   "metadata": {},
   "outputs": [
    {
     "data": {
      "text/html": [
       "<div>\n",
       "<style scoped>\n",
       "    .dataframe tbody tr th:only-of-type {\n",
       "        vertical-align: middle;\n",
       "    }\n",
       "\n",
       "    .dataframe tbody tr th {\n",
       "        vertical-align: top;\n",
       "    }\n",
       "\n",
       "    .dataframe thead th {\n",
       "        text-align: right;\n",
       "    }\n",
       "</style>\n",
       "<table border=\"1\" class=\"dataframe\">\n",
       "  <thead>\n",
       "    <tr style=\"text-align: right;\">\n",
       "      <th></th>\n",
       "      <th>Postback Timestamp</th>\n",
       "      <th>Click ID</th>\n",
       "      <th>Transaction ID</th>\n",
       "      <th>Country</th>\n",
       "      <th>OS</th>\n",
       "      <th>Isp</th>\n",
       "      <th>Connection Type</th>\n",
       "      <th>IP</th>\n",
       "      <th>Site ID</th>\n",
       "    </tr>\n",
       "    <tr>\n",
       "      <th>Traffic Source ID</th>\n",
       "      <th></th>\n",
       "      <th></th>\n",
       "      <th></th>\n",
       "      <th></th>\n",
       "      <th></th>\n",
       "      <th></th>\n",
       "      <th></th>\n",
       "      <th></th>\n",
       "      <th></th>\n",
       "    </tr>\n",
       "  </thead>\n",
       "  <tbody>\n",
       "    <tr>\n",
       "      <th>06305dce-21d8-4412-bc81-6b1f5ecf63c9</th>\n",
       "      <td>1531</td>\n",
       "      <td>1531</td>\n",
       "      <td>1531</td>\n",
       "      <td>1531</td>\n",
       "      <td>1531</td>\n",
       "      <td>1531</td>\n",
       "      <td>1531</td>\n",
       "      <td>1531</td>\n",
       "      <td>1531</td>\n",
       "    </tr>\n",
       "    <tr>\n",
       "      <th>0bab9113-87a4-4da8-8a46-c2d1f18ce4c8</th>\n",
       "      <td>1195</td>\n",
       "      <td>1195</td>\n",
       "      <td>1195</td>\n",
       "      <td>1195</td>\n",
       "      <td>1195</td>\n",
       "      <td>1195</td>\n",
       "      <td>1195</td>\n",
       "      <td>1195</td>\n",
       "      <td>1195</td>\n",
       "    </tr>\n",
       "    <tr>\n",
       "      <th>5cff49a9-50d7-4272-917f-614a822124de</th>\n",
       "      <td>597</td>\n",
       "      <td>597</td>\n",
       "      <td>597</td>\n",
       "      <td>597</td>\n",
       "      <td>597</td>\n",
       "      <td>597</td>\n",
       "      <td>597</td>\n",
       "      <td>597</td>\n",
       "      <td>597</td>\n",
       "    </tr>\n",
       "    <tr>\n",
       "      <th>69a52e19-d624-497f-a000-ca28df5e28a4</th>\n",
       "      <td>1</td>\n",
       "      <td>1</td>\n",
       "      <td>1</td>\n",
       "      <td>1</td>\n",
       "      <td>1</td>\n",
       "      <td>1</td>\n",
       "      <td>1</td>\n",
       "      <td>1</td>\n",
       "      <td>1</td>\n",
       "    </tr>\n",
       "    <tr>\n",
       "      <th>6b3d5dad-15d8-47a2-8109-2a85d80df0fc</th>\n",
       "      <td>656</td>\n",
       "      <td>656</td>\n",
       "      <td>656</td>\n",
       "      <td>656</td>\n",
       "      <td>656</td>\n",
       "      <td>656</td>\n",
       "      <td>656</td>\n",
       "      <td>656</td>\n",
       "      <td>656</td>\n",
       "    </tr>\n",
       "    <tr>\n",
       "      <th>7826a798-e3ce-4462-9248-900af565efff</th>\n",
       "      <td>1385</td>\n",
       "      <td>1385</td>\n",
       "      <td>1385</td>\n",
       "      <td>1385</td>\n",
       "      <td>1385</td>\n",
       "      <td>1385</td>\n",
       "      <td>1385</td>\n",
       "      <td>1385</td>\n",
       "      <td>1385</td>\n",
       "    </tr>\n",
       "    <tr>\n",
       "      <th>7982181f-6a20-4837-88e2-c332622f3d2a</th>\n",
       "      <td>5</td>\n",
       "      <td>5</td>\n",
       "      <td>5</td>\n",
       "      <td>5</td>\n",
       "      <td>5</td>\n",
       "      <td>5</td>\n",
       "      <td>5</td>\n",
       "      <td>5</td>\n",
       "      <td>5</td>\n",
       "    </tr>\n",
       "    <tr>\n",
       "      <th>874d21e1-a1f5-4848-8825-fcc21b1edc83</th>\n",
       "      <td>3</td>\n",
       "      <td>3</td>\n",
       "      <td>3</td>\n",
       "      <td>3</td>\n",
       "      <td>3</td>\n",
       "      <td>3</td>\n",
       "      <td>3</td>\n",
       "      <td>3</td>\n",
       "      <td>3</td>\n",
       "    </tr>\n",
       "    <tr>\n",
       "      <th>9a2a1675-584d-491d-9fc9-aeaa674c6e2d</th>\n",
       "      <td>20345</td>\n",
       "      <td>20345</td>\n",
       "      <td>20345</td>\n",
       "      <td>20345</td>\n",
       "      <td>20345</td>\n",
       "      <td>20345</td>\n",
       "      <td>20345</td>\n",
       "      <td>20345</td>\n",
       "      <td>20345</td>\n",
       "    </tr>\n",
       "    <tr>\n",
       "      <th>9ac698ae-4a3f-4023-b49a-d5cb19a6ed88</th>\n",
       "      <td>300</td>\n",
       "      <td>300</td>\n",
       "      <td>300</td>\n",
       "      <td>300</td>\n",
       "      <td>300</td>\n",
       "      <td>300</td>\n",
       "      <td>300</td>\n",
       "      <td>300</td>\n",
       "      <td>300</td>\n",
       "    </tr>\n",
       "    <tr>\n",
       "      <th>d51c988f-915a-417f-acb8-872e5063a70e</th>\n",
       "      <td>3</td>\n",
       "      <td>3</td>\n",
       "      <td>3</td>\n",
       "      <td>3</td>\n",
       "      <td>3</td>\n",
       "      <td>3</td>\n",
       "      <td>3</td>\n",
       "      <td>3</td>\n",
       "      <td>3</td>\n",
       "    </tr>\n",
       "    <tr>\n",
       "      <th>db6c7a1a-450f-4cdf-bf3c-d7efd71f35cf</th>\n",
       "      <td>735</td>\n",
       "      <td>735</td>\n",
       "      <td>735</td>\n",
       "      <td>735</td>\n",
       "      <td>735</td>\n",
       "      <td>735</td>\n",
       "      <td>735</td>\n",
       "      <td>735</td>\n",
       "      <td>735</td>\n",
       "    </tr>\n",
       "    <tr>\n",
       "      <th>e2c04fed-16d0-4dcd-9787-7e23def8e1aa</th>\n",
       "      <td>110</td>\n",
       "      <td>110</td>\n",
       "      <td>110</td>\n",
       "      <td>110</td>\n",
       "      <td>110</td>\n",
       "      <td>110</td>\n",
       "      <td>110</td>\n",
       "      <td>110</td>\n",
       "      <td>110</td>\n",
       "    </tr>\n",
       "    <tr>\n",
       "      <th>fe41c4f2-e6d0-463a-b046-cb97fe33f0de</th>\n",
       "      <td>333</td>\n",
       "      <td>333</td>\n",
       "      <td>333</td>\n",
       "      <td>333</td>\n",
       "      <td>333</td>\n",
       "      <td>333</td>\n",
       "      <td>333</td>\n",
       "      <td>333</td>\n",
       "      <td>333</td>\n",
       "    </tr>\n",
       "  </tbody>\n",
       "</table>\n",
       "</div>"
      ],
      "text/plain": [
       "                                      Postback Timestamp  Click ID  \\\n",
       "Traffic Source ID                                                    \n",
       "06305dce-21d8-4412-bc81-6b1f5ecf63c9                1531      1531   \n",
       "0bab9113-87a4-4da8-8a46-c2d1f18ce4c8                1195      1195   \n",
       "5cff49a9-50d7-4272-917f-614a822124de                 597       597   \n",
       "69a52e19-d624-497f-a000-ca28df5e28a4                   1         1   \n",
       "6b3d5dad-15d8-47a2-8109-2a85d80df0fc                 656       656   \n",
       "7826a798-e3ce-4462-9248-900af565efff                1385      1385   \n",
       "7982181f-6a20-4837-88e2-c332622f3d2a                   5         5   \n",
       "874d21e1-a1f5-4848-8825-fcc21b1edc83                   3         3   \n",
       "9a2a1675-584d-491d-9fc9-aeaa674c6e2d               20345     20345   \n",
       "9ac698ae-4a3f-4023-b49a-d5cb19a6ed88                 300       300   \n",
       "d51c988f-915a-417f-acb8-872e5063a70e                   3         3   \n",
       "db6c7a1a-450f-4cdf-bf3c-d7efd71f35cf                 735       735   \n",
       "e2c04fed-16d0-4dcd-9787-7e23def8e1aa                 110       110   \n",
       "fe41c4f2-e6d0-463a-b046-cb97fe33f0de                 333       333   \n",
       "\n",
       "                                      Transaction ID  Country     OS    Isp  \\\n",
       "Traffic Source ID                                                             \n",
       "06305dce-21d8-4412-bc81-6b1f5ecf63c9            1531     1531   1531   1531   \n",
       "0bab9113-87a4-4da8-8a46-c2d1f18ce4c8            1195     1195   1195   1195   \n",
       "5cff49a9-50d7-4272-917f-614a822124de             597      597    597    597   \n",
       "69a52e19-d624-497f-a000-ca28df5e28a4               1        1      1      1   \n",
       "6b3d5dad-15d8-47a2-8109-2a85d80df0fc             656      656    656    656   \n",
       "7826a798-e3ce-4462-9248-900af565efff            1385     1385   1385   1385   \n",
       "7982181f-6a20-4837-88e2-c332622f3d2a               5        5      5      5   \n",
       "874d21e1-a1f5-4848-8825-fcc21b1edc83               3        3      3      3   \n",
       "9a2a1675-584d-491d-9fc9-aeaa674c6e2d           20345    20345  20345  20345   \n",
       "9ac698ae-4a3f-4023-b49a-d5cb19a6ed88             300      300    300    300   \n",
       "d51c988f-915a-417f-acb8-872e5063a70e               3        3      3      3   \n",
       "db6c7a1a-450f-4cdf-bf3c-d7efd71f35cf             735      735    735    735   \n",
       "e2c04fed-16d0-4dcd-9787-7e23def8e1aa             110      110    110    110   \n",
       "fe41c4f2-e6d0-463a-b046-cb97fe33f0de             333      333    333    333   \n",
       "\n",
       "                                      Connection Type     IP  Site ID  \n",
       "Traffic Source ID                                                      \n",
       "06305dce-21d8-4412-bc81-6b1f5ecf63c9             1531   1531     1531  \n",
       "0bab9113-87a4-4da8-8a46-c2d1f18ce4c8             1195   1195     1195  \n",
       "5cff49a9-50d7-4272-917f-614a822124de              597    597      597  \n",
       "69a52e19-d624-497f-a000-ca28df5e28a4                1      1        1  \n",
       "6b3d5dad-15d8-47a2-8109-2a85d80df0fc              656    656      656  \n",
       "7826a798-e3ce-4462-9248-900af565efff             1385   1385     1385  \n",
       "7982181f-6a20-4837-88e2-c332622f3d2a                5      5        5  \n",
       "874d21e1-a1f5-4848-8825-fcc21b1edc83                3      3        3  \n",
       "9a2a1675-584d-491d-9fc9-aeaa674c6e2d            20345  20345    20345  \n",
       "9ac698ae-4a3f-4023-b49a-d5cb19a6ed88              300    300      300  \n",
       "d51c988f-915a-417f-acb8-872e5063a70e                3      3        3  \n",
       "db6c7a1a-450f-4cdf-bf3c-d7efd71f35cf              735    735      735  \n",
       "e2c04fed-16d0-4dcd-9787-7e23def8e1aa              110    110      110  \n",
       "fe41c4f2-e6d0-463a-b046-cb97fe33f0de              333    333      333  "
      ]
     },
     "execution_count": 181,
     "metadata": {},
     "output_type": "execute_result"
    }
   ],
   "source": [
    "#Amostragem dos tipos de Transações realizadas\n",
    "taxi_app.groupby([\"Traffic Source ID\"]).count()"
   ]
  },
  {
   "cell_type": "code",
   "execution_count": null,
   "metadata": {},
   "outputs": [],
   "source": []
  }
 ],
 "metadata": {
  "kernelspec": {
   "display_name": "Python 3",
   "language": "python",
   "name": "python3"
  },
  "language_info": {
   "codemirror_mode": {
    "name": "ipython",
    "version": 3
   },
   "file_extension": ".py",
   "mimetype": "text/x-python",
   "name": "python",
   "nbconvert_exporter": "python",
   "pygments_lexer": "ipython3",
   "version": "3.5.6"
  }
 },
 "nbformat": 4,
 "nbformat_minor": 2
}
