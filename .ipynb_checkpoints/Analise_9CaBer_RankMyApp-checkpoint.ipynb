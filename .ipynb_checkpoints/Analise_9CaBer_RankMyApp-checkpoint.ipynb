{
 "cells": [
  {
   "cell_type": "markdown",
   "metadata": {},
   "source": [
    "#Análise dos Dados da 9CaBer"
   ]
  },
  {
   "cell_type": "markdown",
   "metadata": {},
   "source": [
    "**Objetivo**: Analisar os dados fornecidos para descobrir os melhores segmentos a serem usados para a próxima campanha da RankMyApp"
   ]
  },
  {
   "cell_type": "markdown",
   "metadata": {},
   "source": [
    "##Vistoria Inicial da Fonte de Dados"
   ]
  },
  {
   "cell_type": "markdown",
   "metadata": {},
   "source": [
    "**Fonte de Dados**: Os dados a serem utilizados pertencem ao aplicativo de Taxi 9CaBer, do período do mês de Maio de 2018"
   ]
  },
  {
   "cell_type": "code",
   "execution_count": 46,
   "metadata": {},
   "outputs": [],
   "source": [
    "import pandas as pd\n",
    "import numpy as np\n",
    "import matplotlib.pyplot as pt\n",
    "\n",
    "%matplotlib inline"
   ]
  },
  {
   "cell_type": "code",
   "execution_count": 47,
   "metadata": {},
   "outputs": [
    {
     "data": {
      "text/html": [
       "<div>\n",
       "<style scoped>\n",
       "    .dataframe tbody tr th:only-of-type {\n",
       "        vertical-align: middle;\n",
       "    }\n",
       "\n",
       "    .dataframe tbody tr th {\n",
       "        vertical-align: top;\n",
       "    }\n",
       "\n",
       "    .dataframe thead th {\n",
       "        text-align: right;\n",
       "    }\n",
       "</style>\n",
       "<table border=\"1\" class=\"dataframe\">\n",
       "  <thead>\n",
       "    <tr style=\"text-align: right;\">\n",
       "      <th></th>\n",
       "      <th>Postback Timestamp</th>\n",
       "      <th>Click ID</th>\n",
       "      <th>Transaction ID</th>\n",
       "      <th>Country</th>\n",
       "      <th>Traffic Source ID</th>\n",
       "      <th>OS</th>\n",
       "      <th>Isp</th>\n",
       "      <th>Mobile Carrier</th>\n",
       "      <th>Connection Type</th>\n",
       "      <th>IP</th>\n",
       "      <th>Site ID</th>\n",
       "    </tr>\n",
       "  </thead>\n",
       "  <tbody>\n",
       "    <tr>\n",
       "      <th>0</th>\n",
       "      <td>5/31/18 23:56</td>\n",
       "      <td>w9AJMV0C671MQ33EHLHVRH92</td>\n",
       "      <td>install</td>\n",
       "      <td>Brazil</td>\n",
       "      <td>9a2a1675-584d-491d-9fc9-aeaa674c6e2d</td>\n",
       "      <td>Android</td>\n",
       "      <td>Telefonica Brasil s.a.</td>\n",
       "      <td>Vivo</td>\n",
       "      <td>Mobile</td>\n",
       "      <td>177,118,105,122</td>\n",
       "      <td>24138</td>\n",
       "    </tr>\n",
       "    <tr>\n",
       "      <th>1</th>\n",
       "      <td>5/31/18 23:55</td>\n",
       "      <td>w2D5EHI6SH04BQAE1VRLD74O</td>\n",
       "      <td>install</td>\n",
       "      <td>Brazil</td>\n",
       "      <td>5cff49a9-50d7-4272-917f-614a822124de</td>\n",
       "      <td>Android</td>\n",
       "      <td>Brasil Telecom Sa - Filial Distrito Federal</td>\n",
       "      <td>NaN</td>\n",
       "      <td>Xdsl</td>\n",
       "      <td>201.89.13.176</td>\n",
       "      <td>7c0ajw76178_6761_652_60601652</td>\n",
       "    </tr>\n",
       "    <tr>\n",
       "      <th>2</th>\n",
       "      <td>5/31/18 23:25</td>\n",
       "      <td>wFS5T9UIREPS4QAEHBURP7DG</td>\n",
       "      <td>first_ride</td>\n",
       "      <td>Brazil</td>\n",
       "      <td>9a2a1675-584d-491d-9fc9-aeaa674c6e2d</td>\n",
       "      <td>Android</td>\n",
       "      <td>Claro Brazil</td>\n",
       "      <td>Claro</td>\n",
       "      <td>Mobile</td>\n",
       "      <td>187.26.74.123</td>\n",
       "      <td>12088</td>\n",
       "    </tr>\n",
       "    <tr>\n",
       "      <th>3</th>\n",
       "      <td>5/31/18 23:22</td>\n",
       "      <td>wDAIK3RD8OL0LQAEH6N197BG</td>\n",
       "      <td>install</td>\n",
       "      <td>Brazil</td>\n",
       "      <td>9a2a1675-584d-491d-9fc9-aeaa674c6e2d</td>\n",
       "      <td>Android</td>\n",
       "      <td>Telefonica Brasil s.a.</td>\n",
       "      <td>NaN</td>\n",
       "      <td>Broadband</td>\n",
       "      <td>201.86.248.165</td>\n",
       "      <td>12088</td>\n",
       "    </tr>\n",
       "    <tr>\n",
       "      <th>4</th>\n",
       "      <td>5/31/18 23:14</td>\n",
       "      <td>wJH7VPPNE5G2SLAEHEHSBR68</td>\n",
       "      <td>install</td>\n",
       "      <td>Brazil</td>\n",
       "      <td>9a2a1675-584d-491d-9fc9-aeaa674c6e2d</td>\n",
       "      <td>Android</td>\n",
       "      <td>Telemar Norte Leste s.a.</td>\n",
       "      <td>NaN</td>\n",
       "      <td>Broadband</td>\n",
       "      <td>186.247.61.28</td>\n",
       "      <td>26896</td>\n",
       "    </tr>\n",
       "  </tbody>\n",
       "</table>\n",
       "</div>"
      ],
      "text/plain": [
       "  Postback Timestamp                  Click ID Transaction ID Country  \\\n",
       "0      5/31/18 23:56  w9AJMV0C671MQ33EHLHVRH92        install  Brazil   \n",
       "1      5/31/18 23:55  w2D5EHI6SH04BQAE1VRLD74O        install  Brazil   \n",
       "2      5/31/18 23:25  wFS5T9UIREPS4QAEHBURP7DG     first_ride  Brazil   \n",
       "3      5/31/18 23:22  wDAIK3RD8OL0LQAEH6N197BG        install  Brazil   \n",
       "4      5/31/18 23:14  wJH7VPPNE5G2SLAEHEHSBR68        install  Brazil   \n",
       "\n",
       "                      Traffic Source ID       OS  \\\n",
       "0  9a2a1675-584d-491d-9fc9-aeaa674c6e2d  Android   \n",
       "1  5cff49a9-50d7-4272-917f-614a822124de  Android   \n",
       "2  9a2a1675-584d-491d-9fc9-aeaa674c6e2d  Android   \n",
       "3  9a2a1675-584d-491d-9fc9-aeaa674c6e2d  Android   \n",
       "4  9a2a1675-584d-491d-9fc9-aeaa674c6e2d  Android   \n",
       "\n",
       "                                           Isp Mobile Carrier Connection Type  \\\n",
       "0                       Telefonica Brasil s.a.           Vivo          Mobile   \n",
       "1  Brasil Telecom Sa - Filial Distrito Federal            NaN            Xdsl   \n",
       "2                                 Claro Brazil          Claro          Mobile   \n",
       "3                       Telefonica Brasil s.a.            NaN       Broadband   \n",
       "4                     Telemar Norte Leste s.a.            NaN       Broadband   \n",
       "\n",
       "                IP                        Site ID  \n",
       "0  177,118,105,122                          24138  \n",
       "1    201.89.13.176  7c0ajw76178_6761_652_60601652  \n",
       "2    187.26.74.123                          12088  \n",
       "3   201.86.248.165                          12088  \n",
       "4    186.247.61.28                          26896  "
      ]
     },
     "metadata": {},
     "output_type": "display_data"
    },
    {
     "name": "stdout",
     "output_type": "stream",
     "text": [
      "Quantidade de Amostras: 27199. \tQuantidade de Atributos: 11.\n"
     ]
    }
   ],
   "source": [
    "#Importação do Arquivo CSV criado contendo os dados a serem analisados\n",
    "taxi_app = pd.read_csv(\"Report_TaxiApp_2018-07-17.csv\")\n",
    "\n",
    "#Checagem dos valores iniciais dos dados importados\n",
    "display(taxi_app.head())\n",
    "print(\"Quantidade de Amostras: {0}. \\tQuantidade de Atributos: {1}.\".format(taxi_app.shape[0], taxi_app.shape[1]))"
   ]
  },
  {
   "cell_type": "markdown",
   "metadata": {},
   "source": [
    "Os dados mostrados acima são apenas um breve resumo da quantidade total de dados a serem analisados, no caso *27199*. Com relação aos atributos presentes para esses dados, temos:"
   ]
  },
  {
   "cell_type": "markdown",
   "metadata": {},
   "source": [
    "**Postback Timestamp**: Momento em que a conversão foi registrada."
   ]
  },
  {
   "cell_type": "markdown",
   "metadata": {},
   "source": [
    "**Click ID**: ID único para cada usuário registrado. Pode se repetir caso haja mais de um evento para um único usuário."
   ]
  },
  {
   "cell_type": "markdown",
   "metadata": {},
   "source": [
    "**Transaction ID**: Tipo de transação ou evento."
   ]
  },
  {
   "cell_type": "markdown",
   "metadata": {},
   "source": [
    "**Country**: País em que a conversão foi registrada."
   ]
  },
  {
   "cell_type": "markdown",
   "metadata": {},
   "source": [
    "**Traffic Source ID**: ID único de cada fonte de tráfego, sendo que *Fontes de tráfego* \n",
    "são os canais que veiculam a campanha e possuem um inventário único."
   ]
  },
  {
   "cell_type": "markdown",
   "metadata": {},
   "source": [
    "**OS**: Tipo de sistema operacional da conversão."
   ]
  },
  {
   "cell_type": "markdown",
   "metadata": {},
   "source": [
    "**Isp**: Operadora ou empresa provedora de internet."
   ]
  },
  {
   "cell_type": "markdown",
   "metadata": {},
   "source": [
    "**Mobile Carrier**: Operadora móvel."
   ]
  },
  {
   "cell_type": "markdown",
   "metadata": {},
   "source": [
    "**Connection Type**: Tipo de conexão utilizada (ex.: Wifi, 3G, etc)."
   ]
  },
  {
   "cell_type": "markdown",
   "metadata": {},
   "source": [
    "**IP**: IP registrado no momento da conversão."
   ]
  },
  {
   "cell_type": "markdown",
   "metadata": {},
   "source": [
    "**Site ID**: ID único para cada site disponível no inventário de cada fonte de tráfego. "
   ]
  },
  {
   "cell_type": "markdown",
   "metadata": {},
   "source": [
    "Agora, será apresentado os tipos de cada coluna. Esse método permite o conhecimento do tipo de dado armazenado em cada coluna, podendo assim ser cada coluna analisada de acordo com o mesmo:"
   ]
  },
  {
   "cell_type": "code",
   "execution_count": 48,
   "metadata": {},
   "outputs": [
    {
     "name": "stdout",
     "output_type": "stream",
     "text": [
      "coluna: Postback Timestamp, tipo: <class 'str'>.\n",
      "\n",
      "coluna: Click ID, tipo: <class 'str'>.\n",
      "\n",
      "coluna: Transaction ID, tipo: <class 'str'>.\n",
      "\n",
      "coluna: Country, tipo: <class 'str'>.\n",
      "\n",
      "coluna: Traffic Source ID, tipo: <class 'str'>.\n",
      "\n",
      "coluna: OS, tipo: <class 'str'>.\n",
      "\n",
      "coluna: Isp, tipo: <class 'str'>.\n",
      "\n",
      "coluna: Mobile Carrier, tipo: <class 'float'>.\n",
      "\n",
      "coluna: Connection Type, tipo: <class 'str'>.\n",
      "\n",
      "coluna: IP, tipo: <class 'str'>.\n",
      "\n",
      "coluna: Site ID, tipo: <class 'str'>.\n",
      "\n"
     ]
    }
   ],
   "source": [
    "#Método para verificar os tipos das colunas:\n",
    "for column in taxi_app.columns:\n",
    "        print(\"coluna: {0}, tipo: {1}.\\n\".format(column, type(taxi_app[column][1])))"
   ]
  },
  {
   "cell_type": "markdown",
   "metadata": {},
   "source": [
    "Portanto, com exceção da coluna **Connection Type**, todas as colunas são do tipo *String*, ou seja *Texto*."
   ]
  },
  {
   "cell_type": "markdown",
   "metadata": {},
   "source": [
    "##Tratamento de Dados"
   ]
  },
  {
   "cell_type": "markdown",
   "metadata": {},
   "source": [
    "Nesse tópico ocorrerá a passagem do conjunto de dados e sua verificação por condições que possam impedir sua efetiva e completa análise."
   ]
  },
  {
   "cell_type": "markdown",
   "metadata": {},
   "source": [
    "Inicialmente, será verificada a existência de *Valores Nulos* nos atributos do Conjunto de Dados:"
   ]
  },
  {
   "cell_type": "code",
   "execution_count": 49,
   "metadata": {},
   "outputs": [
    {
     "name": "stdout",
     "output_type": "stream",
     "text": [
      "Quantidade Total de Amostras: 27199\n",
      "\n",
      "\n",
      "Total de Valores Não-Nulos na Coluna Postback Timestamp: 27199.\n",
      "\n",
      "Total de Valores Não-Nulos na Coluna Click ID: 27199.\n",
      "\n",
      "Total de Valores Não-Nulos na Coluna Transaction ID: 27199.\n",
      "\n",
      "Total de Valores Não-Nulos na Coluna Country: 27198.\n",
      "\n",
      "Total de Valores Não-Nulos na Coluna Traffic Source ID: 27199.\n",
      "\n",
      "Total de Valores Não-Nulos na Coluna OS: 27199.\n",
      "\n",
      "Total de Valores Não-Nulos na Coluna Isp: 27195.\n",
      "\n",
      "Total de Valores Não-Nulos na Coluna Mobile Carrier: 7360.\n",
      "\n",
      "Total de Valores Não-Nulos na Coluna Connection Type: 27199.\n",
      "\n",
      "Total de Valores Não-Nulos na Coluna IP: 27199.\n",
      "\n",
      "Total de Valores Não-Nulos na Coluna Site ID: 27189.\n",
      "\n"
     ]
    }
   ],
   "source": [
    "#Método para Verificar Quantidade de Valores Totais de um Conjunto em relação ao Total de Dados Nõa-Nulos em um Atributo:\n",
    "print(\"Quantidade Total de Amostras: {0}\\n\\n\".format(taxi_app.shape[0]))\n",
    "for column in taxi_app.columns:\n",
    "    print(\"Total de Valores Não-Nulos na Coluna {0}: {1}.\\n\".format(column, taxi_app[column].count()))"
   ]
  },
  {
   "cell_type": "markdown",
   "metadata": {},
   "source": [
    "Conforme visto pelo texto acima, as colunas **Country**, **Isp**, **Mobile Carrier** e **Site ID** tem valores não-nulos menores que o total de amostras presentes, concluindo que estas possuem valores nulos:"
   ]
  },
  {
   "cell_type": "code",
   "execution_count": 50,
   "metadata": {},
   "outputs": [
    {
     "data": {
      "text/plain": [
       "Postback Timestamp        0\n",
       "Click ID                  0\n",
       "Transaction ID            0\n",
       "Country                   1\n",
       "Traffic Source ID         0\n",
       "OS                        0\n",
       "Isp                       4\n",
       "Mobile Carrier        19839\n",
       "Connection Type           0\n",
       "IP                        0\n",
       "Site ID                  10\n",
       "dtype: int64"
      ]
     },
     "execution_count": 50,
     "metadata": {},
     "output_type": "execute_result"
    }
   ],
   "source": [
    "taxi_app.isna().sum()"
   ]
  },
  {
   "cell_type": "markdown",
   "metadata": {},
   "source": [
    "Desses atributos contendo valores negativos, a maior quantidade de valores nulos reside em **Mobile Carrier**. Por possuir essa grande quantidade de valores nulos, prejudicando os demais atributos ao retirá-los do conjunto de dados, essa coluna não será utilizada para a análise dos dados: "
   ]
  },
  {
   "cell_type": "code",
   "execution_count": 51,
   "metadata": {},
   "outputs": [
    {
     "data": {
      "text/html": [
       "<div>\n",
       "<style scoped>\n",
       "    .dataframe tbody tr th:only-of-type {\n",
       "        vertical-align: middle;\n",
       "    }\n",
       "\n",
       "    .dataframe tbody tr th {\n",
       "        vertical-align: top;\n",
       "    }\n",
       "\n",
       "    .dataframe thead th {\n",
       "        text-align: right;\n",
       "    }\n",
       "</style>\n",
       "<table border=\"1\" class=\"dataframe\">\n",
       "  <thead>\n",
       "    <tr style=\"text-align: right;\">\n",
       "      <th></th>\n",
       "      <th>Postback Timestamp</th>\n",
       "      <th>Click ID</th>\n",
       "      <th>Transaction ID</th>\n",
       "      <th>Country</th>\n",
       "      <th>Traffic Source ID</th>\n",
       "      <th>OS</th>\n",
       "      <th>Isp</th>\n",
       "      <th>Connection Type</th>\n",
       "      <th>IP</th>\n",
       "      <th>Site ID</th>\n",
       "    </tr>\n",
       "  </thead>\n",
       "  <tbody>\n",
       "    <tr>\n",
       "      <th>0</th>\n",
       "      <td>5/31/18 23:56</td>\n",
       "      <td>w9AJMV0C671MQ33EHLHVRH92</td>\n",
       "      <td>install</td>\n",
       "      <td>Brazil</td>\n",
       "      <td>9a2a1675-584d-491d-9fc9-aeaa674c6e2d</td>\n",
       "      <td>Android</td>\n",
       "      <td>Telefonica Brasil s.a.</td>\n",
       "      <td>Mobile</td>\n",
       "      <td>177,118,105,122</td>\n",
       "      <td>24138</td>\n",
       "    </tr>\n",
       "    <tr>\n",
       "      <th>1</th>\n",
       "      <td>5/31/18 23:55</td>\n",
       "      <td>w2D5EHI6SH04BQAE1VRLD74O</td>\n",
       "      <td>install</td>\n",
       "      <td>Brazil</td>\n",
       "      <td>5cff49a9-50d7-4272-917f-614a822124de</td>\n",
       "      <td>Android</td>\n",
       "      <td>Brasil Telecom Sa - Filial Distrito Federal</td>\n",
       "      <td>Xdsl</td>\n",
       "      <td>201.89.13.176</td>\n",
       "      <td>7c0ajw76178_6761_652_60601652</td>\n",
       "    </tr>\n",
       "    <tr>\n",
       "      <th>2</th>\n",
       "      <td>5/31/18 23:25</td>\n",
       "      <td>wFS5T9UIREPS4QAEHBURP7DG</td>\n",
       "      <td>first_ride</td>\n",
       "      <td>Brazil</td>\n",
       "      <td>9a2a1675-584d-491d-9fc9-aeaa674c6e2d</td>\n",
       "      <td>Android</td>\n",
       "      <td>Claro Brazil</td>\n",
       "      <td>Mobile</td>\n",
       "      <td>187.26.74.123</td>\n",
       "      <td>12088</td>\n",
       "    </tr>\n",
       "    <tr>\n",
       "      <th>3</th>\n",
       "      <td>5/31/18 23:22</td>\n",
       "      <td>wDAIK3RD8OL0LQAEH6N197BG</td>\n",
       "      <td>install</td>\n",
       "      <td>Brazil</td>\n",
       "      <td>9a2a1675-584d-491d-9fc9-aeaa674c6e2d</td>\n",
       "      <td>Android</td>\n",
       "      <td>Telefonica Brasil s.a.</td>\n",
       "      <td>Broadband</td>\n",
       "      <td>201.86.248.165</td>\n",
       "      <td>12088</td>\n",
       "    </tr>\n",
       "    <tr>\n",
       "      <th>4</th>\n",
       "      <td>5/31/18 23:14</td>\n",
       "      <td>wJH7VPPNE5G2SLAEHEHSBR68</td>\n",
       "      <td>install</td>\n",
       "      <td>Brazil</td>\n",
       "      <td>9a2a1675-584d-491d-9fc9-aeaa674c6e2d</td>\n",
       "      <td>Android</td>\n",
       "      <td>Telemar Norte Leste s.a.</td>\n",
       "      <td>Broadband</td>\n",
       "      <td>186.247.61.28</td>\n",
       "      <td>26896</td>\n",
       "    </tr>\n",
       "  </tbody>\n",
       "</table>\n",
       "</div>"
      ],
      "text/plain": [
       "  Postback Timestamp                  Click ID Transaction ID Country  \\\n",
       "0      5/31/18 23:56  w9AJMV0C671MQ33EHLHVRH92        install  Brazil   \n",
       "1      5/31/18 23:55  w2D5EHI6SH04BQAE1VRLD74O        install  Brazil   \n",
       "2      5/31/18 23:25  wFS5T9UIREPS4QAEHBURP7DG     first_ride  Brazil   \n",
       "3      5/31/18 23:22  wDAIK3RD8OL0LQAEH6N197BG        install  Brazil   \n",
       "4      5/31/18 23:14  wJH7VPPNE5G2SLAEHEHSBR68        install  Brazil   \n",
       "\n",
       "                      Traffic Source ID       OS  \\\n",
       "0  9a2a1675-584d-491d-9fc9-aeaa674c6e2d  Android   \n",
       "1  5cff49a9-50d7-4272-917f-614a822124de  Android   \n",
       "2  9a2a1675-584d-491d-9fc9-aeaa674c6e2d  Android   \n",
       "3  9a2a1675-584d-491d-9fc9-aeaa674c6e2d  Android   \n",
       "4  9a2a1675-584d-491d-9fc9-aeaa674c6e2d  Android   \n",
       "\n",
       "                                           Isp Connection Type  \\\n",
       "0                       Telefonica Brasil s.a.          Mobile   \n",
       "1  Brasil Telecom Sa - Filial Distrito Federal            Xdsl   \n",
       "2                                 Claro Brazil          Mobile   \n",
       "3                       Telefonica Brasil s.a.       Broadband   \n",
       "4                     Telemar Norte Leste s.a.       Broadband   \n",
       "\n",
       "                IP                        Site ID  \n",
       "0  177,118,105,122                          24138  \n",
       "1    201.89.13.176  7c0ajw76178_6761_652_60601652  \n",
       "2    187.26.74.123                          12088  \n",
       "3   201.86.248.165                          12088  \n",
       "4    186.247.61.28                          26896  "
      ]
     },
     "metadata": {},
     "output_type": "display_data"
    }
   ],
   "source": [
    "#Remoção da Coluna Mobile Carrier do Dataset\n",
    "taxi_app_antigo = taxi_app\n",
    "taxi_app = taxi_app.drop([\"Mobile Carrier\"], axis = 1)\n",
    "display(taxi_app.head())"
   ]
  },
  {
   "cell_type": "markdown",
   "metadata": {},
   "source": [
    "Com esse atributo retirado do conjunto, será analisado os valores nulos restantes."
   ]
  },
  {
   "cell_type": "markdown",
   "metadata": {},
   "source": [
    "Na Coluna **Country**, por ter apenas um valor nulo, pode-se tanto retirar essa tupla, ou seja linha do conjunto de dados, quanto acrescentar em seu lugar o texto com maior frequência dentro desse atributo:"
   ]
  },
  {
   "cell_type": "code",
   "execution_count": 63,
   "metadata": {},
   "outputs": [
    {
     "name": "stdout",
     "output_type": "stream",
     "text": [
      "Países presentes nesse Conjunto de Dados: ['Brazil' 'United States' 'Spain' 'Mexico' 'Argentina' 'Peru' 'Paraguay'\n",
      " 'Ecuador' 'Portugal' 'Colombia' 'France' 'Costa Rica' nan]\n",
      "\n",
      "Total de Países presentes: 12.\n"
     ]
    }
   ],
   "source": [
    "print(\"Países presentes nesse Conjunto de Dados: {0}\\n\".format(taxi_app[\"Country\"].unique()))\n",
    "print(\"Total de Países presentes: {0}.\".format(taxi_app[\"Country\"].nunique()))"
   ]
  },
  {
   "cell_type": "code",
   "execution_count": 58,
   "metadata": {},
   "outputs": [
    {
     "data": {
      "text/plain": [
       "count      27198\n",
       "unique        12\n",
       "top       Brazil\n",
       "freq       27080\n",
       "Name: Country, dtype: object"
      ]
     },
     "execution_count": 58,
     "metadata": {},
     "output_type": "execute_result"
    }
   ],
   "source": [
    "#Verificação da média de valores presentes na coluna Country\n",
    "taxi_app[\"Country\"].describe()"
   ]
  },
  {
   "cell_type": "markdown",
   "metadata": {},
   "source": [
    "Com isso, foi descoberto que *Brazil* é o país com maior ocorrência de frequência ao longo dos dados. Portanto, será adicionado ao lugar do valor nulo:"
   ]
  },
  {
   "cell_type": "code",
   "execution_count": 71,
   "metadata": {},
   "outputs": [
    {
     "name": "stdout",
     "output_type": "stream",
     "text": [
      "Países presentes nesse Conjunto de Dados: ['Brazil' 'United States' 'Spain' 'Mexico' 'Argentina' 'Peru' 'Paraguay'\n",
      " 'Ecuador' 'Portugal' 'Colombia' 'France' 'Costa Rica']\n",
      "\n",
      "Total de Valores Não-Nulos: 27199\n"
     ]
    }
   ],
   "source": [
    "#Preenchendo o Valor Nulo da coluna Country pelo texto \"Brazil\"\n",
    "taxi_app['Country'].fillna(\"Brazil\", inplace=True)\n",
    "print(\"Países presentes nesse Conjunto de Dados: {0}\\n\".format(taxi_app[\"Country\"].unique()))\n",
    "print(\"Total de Valores Não-Nulos: {0}\".format(taxi_app[\"Country\"].count()))"
   ]
  },
  {
   "cell_type": "markdown",
   "metadata": {},
   "source": [
    "Ainda, é necessário a limpeza dos dados nulos de **Site ID**:"
   ]
  },
  {
   "cell_type": "code",
   "execution_count": 72,
   "metadata": {},
   "outputs": [
    {
     "name": "stdout",
     "output_type": "stream",
     "text": [
      "Total de Sites ID presentes: 568.\n"
     ]
    }
   ],
   "source": [
    "print(\"Total de Sites ID presentes: {0}.\".format(taxi_app[\"Site ID\"].nunique()))"
   ]
  },
  {
   "cell_type": "code",
   "execution_count": 73,
   "metadata": {},
   "outputs": [
    {
     "data": {
      "text/plain": [
       "count     27189\n",
       "unique      568\n",
       "top       12088\n",
       "freq       4575\n",
       "Name: Site ID, dtype: object"
      ]
     },
     "execution_count": 73,
     "metadata": {},
     "output_type": "execute_result"
    }
   ],
   "source": [
    "taxi_app[\"Site ID\"].describe()"
   ]
  },
  {
   "cell_type": "markdown",
   "metadata": {},
   "source": [
    "Como esse atributo possui um dado de maior frequência, coloca-se o mesmo nos valores nulos:"
   ]
  },
  {
   "cell_type": "code",
   "execution_count": 77,
   "metadata": {},
   "outputs": [
    {
     "name": "stdout",
     "output_type": "stream",
     "text": [
      "Total de Valores Nulos em Site ID: 0\n"
     ]
    }
   ],
   "source": [
    "taxi_app[\"Site ID\"].fillna(\"12088\", inplace=True)\n",
    "print(\"Total de Valores Nulos em Site ID: {0}\".format(taxi_app[\"Site ID\"].isna().sum()))"
   ]
  },
  {
   "cell_type": "markdown",
   "metadata": {},
   "source": [
    "Por fim, têm-se a limpeza de dados de **Isp**:"
   ]
  },
  {
   "cell_type": "code",
   "execution_count": 79,
   "metadata": {},
   "outputs": [
    {
     "name": "stdout",
     "output_type": "stream",
     "text": [
      "Total de Operadoras presentes: 2129.\n"
     ]
    }
   ],
   "source": [
    "print(\"Total de Operadoras presentes: {0}.\".format(taxi_app[\"Isp\"].nunique()))"
   ]
  },
  {
   "cell_type": "code",
   "execution_count": 80,
   "metadata": {},
   "outputs": [
    {
     "data": {
      "text/plain": [
       "count            27195\n",
       "unique            2129\n",
       "top       Claro Brazil\n",
       "freq              6997\n",
       "Name: Isp, dtype: object"
      ]
     },
     "execution_count": 80,
     "metadata": {},
     "output_type": "execute_result"
    }
   ],
   "source": [
    "taxi_app[\"Isp\"].describe()"
   ]
  },
  {
   "cell_type": "markdown",
   "metadata": {},
   "source": [
    "Portanto, ocorre a inserção do dado de maior frequência nos valores nulos:"
   ]
  },
  {
   "cell_type": "code",
   "execution_count": 82,
   "metadata": {},
   "outputs": [
    {
     "name": "stdout",
     "output_type": "stream",
     "text": [
      "Total de Valores Nulos em Isp: 0\n"
     ]
    }
   ],
   "source": [
    "taxi_app[\"Isp\"].fillna(\"Claro Brazil\", inplace=True)\n",
    "print(\"Total de Valores Nulos em Isp: {0}\".format(taxi_app[\"Isp\"].isna().sum()))"
   ]
  },
  {
   "cell_type": "code",
   "execution_count": 86,
   "metadata": {},
   "outputs": [
    {
     "name": "stdout",
     "output_type": "stream",
     "text": [
      "Total de Dados Não-Nulos no conjunto:\n",
      "\n",
      "Postback Timestamp    27199\n",
      "Click ID              27199\n",
      "Transaction ID        27199\n",
      "Country               27199\n",
      "Traffic Source ID     27199\n",
      "OS                    27199\n",
      "Isp                   27199\n",
      "Connection Type       27199\n",
      "IP                    27199\n",
      "Site ID               27199\n",
      "dtype: int64\n"
     ]
    }
   ],
   "source": [
    "print(\"Total de Dados Não-Nulos no conjunto:\\n\\n{0}\".format(taxi_app.count()))"
   ]
  },
  {
   "cell_type": "code",
   "execution_count": null,
   "metadata": {},
   "outputs": [],
   "source": [
    "Logo, não há mais valores nulos no Dataset, ou seja, o Conjunto de Dados."
   ]
  }
 ],
 "metadata": {
  "kernelspec": {
   "display_name": "Python 3",
   "language": "python",
   "name": "python3"
  },
  "language_info": {
   "codemirror_mode": {
    "name": "ipython",
    "version": 3
   },
   "file_extension": ".py",
   "mimetype": "text/x-python",
   "name": "python",
   "nbconvert_exporter": "python",
   "pygments_lexer": "ipython3",
   "version": "3.5.6"
  }
 },
 "nbformat": 4,
 "nbformat_minor": 2
}
